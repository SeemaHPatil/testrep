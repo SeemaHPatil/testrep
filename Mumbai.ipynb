{
  "cells": [
    {
      "cell_type": "code",
      "execution_count": 1,
      "metadata": {
        "colab": {
          "base_uri": "https://localhost:8080/"
        },
        "id": "gT8BhHX8H_f1",
        "outputId": "9a9ff5ea-efd3-43a3-d837-3da56800c6d5"
      },
      "outputs": [
        {
          "output_type": "stream",
          "name": "stdout",
          "text": [
            "Looking in indexes: https://pypi.org/simple, https://us-python.pkg.dev/colab-wheels/public/simple/\n",
            "Collecting pymrmr\n",
            "  Downloading pymrmr-0.1.11.tar.gz (69 kB)\n",
            "\u001b[K     |████████████████████████████████| 69 kB 3.6 MB/s \n",
            "\u001b[?25hRequirement already satisfied: numpy>=1.19.5 in /usr/local/lib/python3.7/dist-packages (from pymrmr) (1.21.6)\n",
            "Building wheels for collected packages: pymrmr\n",
            "  Building wheel for pymrmr (setup.py) ... \u001b[?25l\u001b[?25hdone\n",
            "  Created wheel for pymrmr: filename=pymrmr-0.1.11-cp37-cp37m-linux_x86_64.whl size=276660 sha256=0fd3a2546c3de295ae0150c6d6e9e48cd5ab366679da1bc9c98b6e46bb759e3f\n",
            "  Stored in directory: /root/.cache/pip/wheels/81/95/66/05731ac334bc74a1251a727af18eb28dc027217ee817a0cab6\n",
            "Successfully built pymrmr\n",
            "Installing collected packages: pymrmr\n",
            "Successfully installed pymrmr-0.1.11\n",
            "Looking in indexes: https://pypi.org/simple, https://us-python.pkg.dev/colab-wheels/public/simple/\n",
            "Collecting git+https://github.com/smazzanti/mrmr\n",
            "  Cloning https://github.com/smazzanti/mrmr to /tmp/pip-req-build-5vxth0x5\n",
            "  Running command git clone -q https://github.com/smazzanti/mrmr /tmp/pip-req-build-5vxth0x5\n",
            "\u001b[33mWARNING: Discarding git+https://github.com/smazzanti/mrmr. Command errored out with exit status 1: python setup.py egg_info Check the logs for full command output.\u001b[0m\n",
            "\u001b[31mERROR: Command errored out with exit status 1: python setup.py egg_info Check the logs for full command output.\u001b[0m\n"
          ]
        }
      ],
      "source": [
        "import warnings\n",
        "warnings.filterwarnings('ignore')\n",
        "import pandas as pd\n",
        "import matplotlib.pyplot as plt\n",
        "import numpy as np\n",
        "import datetime as dt\n",
        "from datetime import timedelta\n",
        "import seaborn as sns\n",
        "\n",
        "import sklearn \n",
        "\n",
        "from sklearn.preprocessing import StandardScaler\n",
        "from sklearn.linear_model import LogisticRegression\n",
        "from sklearn.linear_model import LinearRegression\n",
        "from sklearn.linear_model import LassoCV\n",
        "from sklearn.linear_model import Lasso\n",
        "from sklearn.tree import DecisionTreeRegressor\n",
        "from sklearn.svm import SVR\n",
        "from sklearn.ensemble import AdaBoostRegressor\n",
        "from sklearn.ensemble import VotingRegressor\n",
        "from numpy import absolute\n",
        "from sklearn.metrics import mean_absolute_error\n",
        "from sklearn.metrics import mean_squared_error\n",
        "from sklearn.metrics import r2_score\n",
        "from sklearn.metrics import mean_absolute_percentage_error\n",
        "from sklearn.metrics import confusion_matrix, accuracy_score\n",
        "from sklearn.model_selection import train_test_split\n",
        "from sklearn.model_selection import cross_val_score\n",
        "\n",
        "\n",
        "!pip install pymrmr\n",
        "!pip install git+https://github.com/smazzanti/mrmr\n"
      ]
    },
    {
      "cell_type": "markdown",
      "metadata": {
        "id": "ufh9HtfyM6po"
      },
      "source": [
        "# **Dataset details**"
      ]
    },
    {
      "cell_type": "code",
      "execution_count": 2,
      "metadata": {
        "id": "z4yKbsbBIKKh"
      },
      "outputs": [],
      "source": [
        "df=pd.read_csv('MumbaiFinalAG.csv')"
      ]
    },
    {
      "cell_type": "code",
      "execution_count": 3,
      "metadata": {
        "colab": {
          "base_uri": "https://localhost:8080/"
        },
        "id": "sUYKaPsfIVDL",
        "outputId": "2117f526-f754-4c19-b033-0cda0e66b8e1"
      },
      "outputs": [
        {
          "output_type": "stream",
          "name": "stdout",
          "text": [
            "Size/Shape of the dataset:  (132, 18)\n",
            "Checking for null values:\n",
            " INDEX          72\n",
            "YEAR            0\n",
            "MN              0\n",
            "Date           72\n",
            "MMAX            0\n",
            "MMIN            0\n",
            "TMRF            0\n",
            "RH              0\n",
            "MWS             0\n",
            "<14YRS(M)       0\n",
            "15-24YRS(M)     0\n",
            "25-60YRS(M)     0\n",
            ">60YRS(M)       0\n",
            "<14YRS(F)       0\n",
            "15-24YRS(F)     0\n",
            "25-60YRS(F)     0\n",
            ">60YRS(F)       0\n",
            " Total DI       0\n",
            "dtype: int64\n",
            "Checking Data-type of each column:\n",
            " INDEX          float64\n",
            "YEAR             int64\n",
            "MN               int64\n",
            "Date            object\n",
            "MMAX           float64\n",
            "MMIN           float64\n",
            "TMRF           float64\n",
            "RH             float64\n",
            "MWS            float64\n",
            "<14YRS(M)        int64\n",
            "15-24YRS(M)      int64\n",
            "25-60YRS(M)      int64\n",
            ">60YRS(M)        int64\n",
            "<14YRS(F)        int64\n",
            "15-24YRS(F)      int64\n",
            "25-60YRS(F)      int64\n",
            ">60YRS(F)        int64\n",
            " Total DI        int64\n",
            "dtype: object\n"
          ]
        }
      ],
      "source": [
        "print(\"Size/Shape of the dataset: \",df.shape)\n",
        "print(\"Checking for null values:\\n\",df.isnull().sum())\n",
        "print(\"Checking Data-type of each column:\\n\",df.dtypes)"
      ]
    },
    {
      "cell_type": "markdown",
      "metadata": {
        "id": "IqIvgnNNNLNl"
      },
      "source": [
        "# **Data Cleaning**"
      ]
    },
    {
      "cell_type": "code",
      "execution_count": 4,
      "metadata": {
        "id": "Zs2nuEkR_Fnp"
      },
      "outputs": [],
      "source": [
        "dataset = df.copy()"
      ]
    },
    {
      "cell_type": "code",
      "execution_count": 5,
      "metadata": {
        "id": "8ELn7l4vKk_P"
      },
      "outputs": [],
      "source": [
        "cols = ['INDEX','YEAR','Date']\n",
        "dataset.drop(cols, axis = 1, inplace = True)"
      ]
    },
    {
      "cell_type": "code",
      "execution_count": null,
      "metadata": {
        "colab": {
          "base_uri": "https://localhost:8080/",
          "height": 456
        },
        "id": "Kv7zuXETs-q6",
        "outputId": "16f462b4-e92e-4531-e930-b0c05e004d04"
      },
      "outputs": [
        {
          "output_type": "execute_result",
          "data": {
            "text/plain": [
              "                 MMAX      MMIN      TMRF        RH       MWS  <14YRS(M)  \\\n",
              "MMAX         1.000000  0.237687 -0.245258 -0.361032 -0.316699  -0.281783   \n",
              "MMIN         0.237687  1.000000  0.058483 -0.019842  0.390635   0.059904   \n",
              "TMRF        -0.245258  0.058483  1.000000  0.422504 -0.121943   0.144041   \n",
              "RH          -0.361032 -0.019842  0.422504  1.000000 -0.252027   0.316756   \n",
              "MWS         -0.316699  0.390635 -0.121943 -0.252027  1.000000   0.065802   \n",
              "<14YRS(M)   -0.281783  0.059904  0.144041  0.316756  0.065802   1.000000   \n",
              "15-24YRS(M) -0.186954  0.218233  0.052709  0.260743  0.105607   0.844178   \n",
              "25-60YRS(M) -0.270622  0.109366  0.094602  0.291236  0.082097   0.891727   \n",
              ">60YRS(M)   -0.136239 -0.043269 -0.042733  0.021346 -0.048044   0.432957   \n",
              "<14YRS(F)   -0.198210  0.111925  0.136251  0.302868  0.027709   0.788823   \n",
              "15-24YRS(F) -0.186025  0.154558  0.010662  0.276956  0.051078   0.764828   \n",
              "25-60YRS(F) -0.203912  0.131983  0.084675  0.310908 -0.000625   0.841134   \n",
              ">60YRS(F)   -0.045605  0.207060 -0.032041  0.093034  0.053456   0.490349   \n",
              "\n",
              "             15-24YRS(M)  25-60YRS(M)  >60YRS(M)  <14YRS(F)  15-24YRS(F)  \\\n",
              "MMAX           -0.186954    -0.270622  -0.136239  -0.198210    -0.186025   \n",
              "MMIN            0.218233     0.109366  -0.043269   0.111925     0.154558   \n",
              "TMRF            0.052709     0.094602  -0.042733   0.136251     0.010662   \n",
              "RH              0.260743     0.291236   0.021346   0.302868     0.276956   \n",
              "MWS             0.105607     0.082097  -0.048044   0.027709     0.051078   \n",
              "<14YRS(M)       0.844178     0.891727   0.432957   0.788823     0.764828   \n",
              "15-24YRS(M)     1.000000     0.932140   0.443670   0.734237     0.866769   \n",
              "25-60YRS(M)     0.932140     1.000000   0.495400   0.754560     0.883164   \n",
              ">60YRS(M)       0.443670     0.495400   1.000000   0.395399     0.473155   \n",
              "<14YRS(F)       0.734237     0.754560   0.395399   1.000000     0.658398   \n",
              "15-24YRS(F)     0.866769     0.883164   0.473155   0.658398     1.000000   \n",
              "25-60YRS(F)     0.876776     0.883259   0.453493   0.730999     0.830779   \n",
              ">60YRS(F)       0.460718     0.449159   0.224818   0.458653     0.478249   \n",
              "\n",
              "             25-60YRS(F)  >60YRS(F)  \n",
              "MMAX           -0.203912  -0.045605  \n",
              "MMIN            0.131983   0.207060  \n",
              "TMRF            0.084675  -0.032041  \n",
              "RH              0.310908   0.093034  \n",
              "MWS            -0.000625   0.053456  \n",
              "<14YRS(M)       0.841134   0.490349  \n",
              "15-24YRS(M)     0.876776   0.460718  \n",
              "25-60YRS(M)     0.883259   0.449159  \n",
              ">60YRS(M)       0.453493   0.224818  \n",
              "<14YRS(F)       0.730999   0.458653  \n",
              "15-24YRS(F)     0.830779   0.478249  \n",
              "25-60YRS(F)     1.000000   0.434441  \n",
              ">60YRS(F)       0.434441   1.000000  "
            ],
            "text/html": [
              "\n",
              "  <div id=\"df-f3614cba-95de-4488-b41d-639bc8079ec3\">\n",
              "    <div class=\"colab-df-container\">\n",
              "      <div>\n",
              "<style scoped>\n",
              "    .dataframe tbody tr th:only-of-type {\n",
              "        vertical-align: middle;\n",
              "    }\n",
              "\n",
              "    .dataframe tbody tr th {\n",
              "        vertical-align: top;\n",
              "    }\n",
              "\n",
              "    .dataframe thead th {\n",
              "        text-align: right;\n",
              "    }\n",
              "</style>\n",
              "<table border=\"1\" class=\"dataframe\">\n",
              "  <thead>\n",
              "    <tr style=\"text-align: right;\">\n",
              "      <th></th>\n",
              "      <th>MMAX</th>\n",
              "      <th>MMIN</th>\n",
              "      <th>TMRF</th>\n",
              "      <th>RH</th>\n",
              "      <th>MWS</th>\n",
              "      <th>&lt;14YRS(M)</th>\n",
              "      <th>15-24YRS(M)</th>\n",
              "      <th>25-60YRS(M)</th>\n",
              "      <th>&gt;60YRS(M)</th>\n",
              "      <th>&lt;14YRS(F)</th>\n",
              "      <th>15-24YRS(F)</th>\n",
              "      <th>25-60YRS(F)</th>\n",
              "      <th>&gt;60YRS(F)</th>\n",
              "    </tr>\n",
              "  </thead>\n",
              "  <tbody>\n",
              "    <tr>\n",
              "      <th>MMAX</th>\n",
              "      <td>1.000000</td>\n",
              "      <td>0.237687</td>\n",
              "      <td>-0.245258</td>\n",
              "      <td>-0.361032</td>\n",
              "      <td>-0.316699</td>\n",
              "      <td>-0.281783</td>\n",
              "      <td>-0.186954</td>\n",
              "      <td>-0.270622</td>\n",
              "      <td>-0.136239</td>\n",
              "      <td>-0.198210</td>\n",
              "      <td>-0.186025</td>\n",
              "      <td>-0.203912</td>\n",
              "      <td>-0.045605</td>\n",
              "    </tr>\n",
              "    <tr>\n",
              "      <th>MMIN</th>\n",
              "      <td>0.237687</td>\n",
              "      <td>1.000000</td>\n",
              "      <td>0.058483</td>\n",
              "      <td>-0.019842</td>\n",
              "      <td>0.390635</td>\n",
              "      <td>0.059904</td>\n",
              "      <td>0.218233</td>\n",
              "      <td>0.109366</td>\n",
              "      <td>-0.043269</td>\n",
              "      <td>0.111925</td>\n",
              "      <td>0.154558</td>\n",
              "      <td>0.131983</td>\n",
              "      <td>0.207060</td>\n",
              "    </tr>\n",
              "    <tr>\n",
              "      <th>TMRF</th>\n",
              "      <td>-0.245258</td>\n",
              "      <td>0.058483</td>\n",
              "      <td>1.000000</td>\n",
              "      <td>0.422504</td>\n",
              "      <td>-0.121943</td>\n",
              "      <td>0.144041</td>\n",
              "      <td>0.052709</td>\n",
              "      <td>0.094602</td>\n",
              "      <td>-0.042733</td>\n",
              "      <td>0.136251</td>\n",
              "      <td>0.010662</td>\n",
              "      <td>0.084675</td>\n",
              "      <td>-0.032041</td>\n",
              "    </tr>\n",
              "    <tr>\n",
              "      <th>RH</th>\n",
              "      <td>-0.361032</td>\n",
              "      <td>-0.019842</td>\n",
              "      <td>0.422504</td>\n",
              "      <td>1.000000</td>\n",
              "      <td>-0.252027</td>\n",
              "      <td>0.316756</td>\n",
              "      <td>0.260743</td>\n",
              "      <td>0.291236</td>\n",
              "      <td>0.021346</td>\n",
              "      <td>0.302868</td>\n",
              "      <td>0.276956</td>\n",
              "      <td>0.310908</td>\n",
              "      <td>0.093034</td>\n",
              "    </tr>\n",
              "    <tr>\n",
              "      <th>MWS</th>\n",
              "      <td>-0.316699</td>\n",
              "      <td>0.390635</td>\n",
              "      <td>-0.121943</td>\n",
              "      <td>-0.252027</td>\n",
              "      <td>1.000000</td>\n",
              "      <td>0.065802</td>\n",
              "      <td>0.105607</td>\n",
              "      <td>0.082097</td>\n",
              "      <td>-0.048044</td>\n",
              "      <td>0.027709</td>\n",
              "      <td>0.051078</td>\n",
              "      <td>-0.000625</td>\n",
              "      <td>0.053456</td>\n",
              "    </tr>\n",
              "    <tr>\n",
              "      <th>&lt;14YRS(M)</th>\n",
              "      <td>-0.281783</td>\n",
              "      <td>0.059904</td>\n",
              "      <td>0.144041</td>\n",
              "      <td>0.316756</td>\n",
              "      <td>0.065802</td>\n",
              "      <td>1.000000</td>\n",
              "      <td>0.844178</td>\n",
              "      <td>0.891727</td>\n",
              "      <td>0.432957</td>\n",
              "      <td>0.788823</td>\n",
              "      <td>0.764828</td>\n",
              "      <td>0.841134</td>\n",
              "      <td>0.490349</td>\n",
              "    </tr>\n",
              "    <tr>\n",
              "      <th>15-24YRS(M)</th>\n",
              "      <td>-0.186954</td>\n",
              "      <td>0.218233</td>\n",
              "      <td>0.052709</td>\n",
              "      <td>0.260743</td>\n",
              "      <td>0.105607</td>\n",
              "      <td>0.844178</td>\n",
              "      <td>1.000000</td>\n",
              "      <td>0.932140</td>\n",
              "      <td>0.443670</td>\n",
              "      <td>0.734237</td>\n",
              "      <td>0.866769</td>\n",
              "      <td>0.876776</td>\n",
              "      <td>0.460718</td>\n",
              "    </tr>\n",
              "    <tr>\n",
              "      <th>25-60YRS(M)</th>\n",
              "      <td>-0.270622</td>\n",
              "      <td>0.109366</td>\n",
              "      <td>0.094602</td>\n",
              "      <td>0.291236</td>\n",
              "      <td>0.082097</td>\n",
              "      <td>0.891727</td>\n",
              "      <td>0.932140</td>\n",
              "      <td>1.000000</td>\n",
              "      <td>0.495400</td>\n",
              "      <td>0.754560</td>\n",
              "      <td>0.883164</td>\n",
              "      <td>0.883259</td>\n",
              "      <td>0.449159</td>\n",
              "    </tr>\n",
              "    <tr>\n",
              "      <th>&gt;60YRS(M)</th>\n",
              "      <td>-0.136239</td>\n",
              "      <td>-0.043269</td>\n",
              "      <td>-0.042733</td>\n",
              "      <td>0.021346</td>\n",
              "      <td>-0.048044</td>\n",
              "      <td>0.432957</td>\n",
              "      <td>0.443670</td>\n",
              "      <td>0.495400</td>\n",
              "      <td>1.000000</td>\n",
              "      <td>0.395399</td>\n",
              "      <td>0.473155</td>\n",
              "      <td>0.453493</td>\n",
              "      <td>0.224818</td>\n",
              "    </tr>\n",
              "    <tr>\n",
              "      <th>&lt;14YRS(F)</th>\n",
              "      <td>-0.198210</td>\n",
              "      <td>0.111925</td>\n",
              "      <td>0.136251</td>\n",
              "      <td>0.302868</td>\n",
              "      <td>0.027709</td>\n",
              "      <td>0.788823</td>\n",
              "      <td>0.734237</td>\n",
              "      <td>0.754560</td>\n",
              "      <td>0.395399</td>\n",
              "      <td>1.000000</td>\n",
              "      <td>0.658398</td>\n",
              "      <td>0.730999</td>\n",
              "      <td>0.458653</td>\n",
              "    </tr>\n",
              "    <tr>\n",
              "      <th>15-24YRS(F)</th>\n",
              "      <td>-0.186025</td>\n",
              "      <td>0.154558</td>\n",
              "      <td>0.010662</td>\n",
              "      <td>0.276956</td>\n",
              "      <td>0.051078</td>\n",
              "      <td>0.764828</td>\n",
              "      <td>0.866769</td>\n",
              "      <td>0.883164</td>\n",
              "      <td>0.473155</td>\n",
              "      <td>0.658398</td>\n",
              "      <td>1.000000</td>\n",
              "      <td>0.830779</td>\n",
              "      <td>0.478249</td>\n",
              "    </tr>\n",
              "    <tr>\n",
              "      <th>25-60YRS(F)</th>\n",
              "      <td>-0.203912</td>\n",
              "      <td>0.131983</td>\n",
              "      <td>0.084675</td>\n",
              "      <td>0.310908</td>\n",
              "      <td>-0.000625</td>\n",
              "      <td>0.841134</td>\n",
              "      <td>0.876776</td>\n",
              "      <td>0.883259</td>\n",
              "      <td>0.453493</td>\n",
              "      <td>0.730999</td>\n",
              "      <td>0.830779</td>\n",
              "      <td>1.000000</td>\n",
              "      <td>0.434441</td>\n",
              "    </tr>\n",
              "    <tr>\n",
              "      <th>&gt;60YRS(F)</th>\n",
              "      <td>-0.045605</td>\n",
              "      <td>0.207060</td>\n",
              "      <td>-0.032041</td>\n",
              "      <td>0.093034</td>\n",
              "      <td>0.053456</td>\n",
              "      <td>0.490349</td>\n",
              "      <td>0.460718</td>\n",
              "      <td>0.449159</td>\n",
              "      <td>0.224818</td>\n",
              "      <td>0.458653</td>\n",
              "      <td>0.478249</td>\n",
              "      <td>0.434441</td>\n",
              "      <td>1.000000</td>\n",
              "    </tr>\n",
              "  </tbody>\n",
              "</table>\n",
              "</div>\n",
              "      <button class=\"colab-df-convert\" onclick=\"convertToInteractive('df-f3614cba-95de-4488-b41d-639bc8079ec3')\"\n",
              "              title=\"Convert this dataframe to an interactive table.\"\n",
              "              style=\"display:none;\">\n",
              "        \n",
              "  <svg xmlns=\"http://www.w3.org/2000/svg\" height=\"24px\"viewBox=\"0 0 24 24\"\n",
              "       width=\"24px\">\n",
              "    <path d=\"M0 0h24v24H0V0z\" fill=\"none\"/>\n",
              "    <path d=\"M18.56 5.44l.94 2.06.94-2.06 2.06-.94-2.06-.94-.94-2.06-.94 2.06-2.06.94zm-11 1L8.5 8.5l.94-2.06 2.06-.94-2.06-.94L8.5 2.5l-.94 2.06-2.06.94zm10 10l.94 2.06.94-2.06 2.06-.94-2.06-.94-.94-2.06-.94 2.06-2.06.94z\"/><path d=\"M17.41 7.96l-1.37-1.37c-.4-.4-.92-.59-1.43-.59-.52 0-1.04.2-1.43.59L10.3 9.45l-7.72 7.72c-.78.78-.78 2.05 0 2.83L4 21.41c.39.39.9.59 1.41.59.51 0 1.02-.2 1.41-.59l7.78-7.78 2.81-2.81c.8-.78.8-2.07 0-2.86zM5.41 20L4 18.59l7.72-7.72 1.47 1.35L5.41 20z\"/>\n",
              "  </svg>\n",
              "      </button>\n",
              "      \n",
              "  <style>\n",
              "    .colab-df-container {\n",
              "      display:flex;\n",
              "      flex-wrap:wrap;\n",
              "      gap: 12px;\n",
              "    }\n",
              "\n",
              "    .colab-df-convert {\n",
              "      background-color: #E8F0FE;\n",
              "      border: none;\n",
              "      border-radius: 50%;\n",
              "      cursor: pointer;\n",
              "      display: none;\n",
              "      fill: #1967D2;\n",
              "      height: 32px;\n",
              "      padding: 0 0 0 0;\n",
              "      width: 32px;\n",
              "    }\n",
              "\n",
              "    .colab-df-convert:hover {\n",
              "      background-color: #E2EBFA;\n",
              "      box-shadow: 0px 1px 2px rgba(60, 64, 67, 0.3), 0px 1px 3px 1px rgba(60, 64, 67, 0.15);\n",
              "      fill: #174EA6;\n",
              "    }\n",
              "\n",
              "    [theme=dark] .colab-df-convert {\n",
              "      background-color: #3B4455;\n",
              "      fill: #D2E3FC;\n",
              "    }\n",
              "\n",
              "    [theme=dark] .colab-df-convert:hover {\n",
              "      background-color: #434B5C;\n",
              "      box-shadow: 0px 1px 3px 1px rgba(0, 0, 0, 0.15);\n",
              "      filter: drop-shadow(0px 1px 2px rgba(0, 0, 0, 0.3));\n",
              "      fill: #FFFFFF;\n",
              "    }\n",
              "  </style>\n",
              "\n",
              "      <script>\n",
              "        const buttonEl =\n",
              "          document.querySelector('#df-f3614cba-95de-4488-b41d-639bc8079ec3 button.colab-df-convert');\n",
              "        buttonEl.style.display =\n",
              "          google.colab.kernel.accessAllowed ? 'block' : 'none';\n",
              "\n",
              "        async function convertToInteractive(key) {\n",
              "          const element = document.querySelector('#df-f3614cba-95de-4488-b41d-639bc8079ec3');\n",
              "          const dataTable =\n",
              "            await google.colab.kernel.invokeFunction('convertToInteractive',\n",
              "                                                     [key], {});\n",
              "          if (!dataTable) return;\n",
              "\n",
              "          const docLinkHtml = 'Like what you see? Visit the ' +\n",
              "            '<a target=\"_blank\" href=https://colab.research.google.com/notebooks/data_table.ipynb>data table notebook</a>'\n",
              "            + ' to learn more about interactive tables.';\n",
              "          element.innerHTML = '';\n",
              "          dataTable['output_type'] = 'display_data';\n",
              "          await google.colab.output.renderOutput(dataTable, element);\n",
              "          const docLink = document.createElement('div');\n",
              "          docLink.innerHTML = docLinkHtml;\n",
              "          element.appendChild(docLink);\n",
              "        }\n",
              "      </script>\n",
              "    </div>\n",
              "  </div>\n",
              "  "
            ]
          },
          "metadata": {},
          "execution_count": 6
        }
      ],
      "source": [
        "d = (dataset.iloc[:, [1,2,3,4,5,6,7,8,9,10,11,12,13]] ).corr(method='pearson')\n",
        "d"
      ]
    },
    {
      "cell_type": "markdown",
      "metadata": {
        "id": "P11xqcCsNXsR"
      },
      "source": [
        "# **Handling Missing Values**"
      ]
    },
    {
      "cell_type": "code",
      "execution_count": null,
      "metadata": {
        "colab": {
          "base_uri": "https://localhost:8080/"
        },
        "id": "C6qcLAPVCjZN",
        "outputId": "2f7f400e-1b0d-4923-d09b-b2bdc950da69"
      },
      "outputs": [
        {
          "output_type": "execute_result",
          "data": {
            "text/plain": [
              "MN             0\n",
              "MMAX           0\n",
              "MMIN           0\n",
              "TMRF           0\n",
              "RH             0\n",
              "MWS            0\n",
              "<14YRS(M)      0\n",
              "15-24YRS(M)    0\n",
              "25-60YRS(M)    0\n",
              ">60YRS(M)      0\n",
              "<14YRS(F)      0\n",
              "15-24YRS(F)    0\n",
              "25-60YRS(F)    0\n",
              ">60YRS(F)      0\n",
              " Total DI      0\n",
              "dtype: int64"
            ]
          },
          "metadata": {},
          "execution_count": 7
        }
      ],
      "source": [
        "dataset.isnull().sum()"
      ]
    },
    {
      "cell_type": "code",
      "execution_count": null,
      "metadata": {
        "id": "-HGZSaSqRg8k"
      },
      "outputs": [],
      "source": [
        "dataset['<14YRS(M)']=dataset['<14YRS(M)'].fillna(dataset['<14YRS(M)'].mode()[0])\n",
        "dataset['15-24YRS(M)']=dataset['15-24YRS(M)'].fillna(dataset['15-24YRS(M)'].mode()[0])\n",
        "dataset['25-60YRS(M)']=dataset['25-60YRS(M)'].fillna(dataset['25-60YRS(M)'].mode()[0])\n",
        "dataset['>60YRS(M)']=dataset['>60YRS(M)'].fillna(dataset['>60YRS(M)'].mode()[0])\n",
        "\n",
        "dataset['<14YRS(F)']=dataset['<14YRS(F)'].fillna(dataset['<14YRS(F)'].mode()[0])\n",
        "dataset['15-24YRS(F)']=dataset['15-24YRS(F)'].fillna(dataset['15-24YRS(F)'].mode()[0])\n",
        "dataset['25-60YRS(F)']=dataset['25-60YRS(F)'].fillna(dataset['25-60YRS(F)'].mode()[0])\n",
        "dataset['>60YRS(F)']=dataset['>60YRS(F)'].fillna(dataset['>60YRS(F)'].mode()[0])"
      ]
    },
    {
      "cell_type": "code",
      "execution_count": null,
      "metadata": {
        "colab": {
          "base_uri": "https://localhost:8080/"
        },
        "id": "DZT6sQdrOEM1",
        "outputId": "b8df15b4-b8a7-499f-c365-4679efb68678"
      },
      "outputs": [
        {
          "output_type": "execute_result",
          "data": {
            "text/plain": [
              "MN             0\n",
              "MMAX           0\n",
              "MMIN           0\n",
              "TMRF           0\n",
              "RH             0\n",
              "MWS            0\n",
              "<14YRS(M)      0\n",
              "15-24YRS(M)    0\n",
              "25-60YRS(M)    0\n",
              ">60YRS(M)      0\n",
              "<14YRS(F)      0\n",
              "15-24YRS(F)    0\n",
              "25-60YRS(F)    0\n",
              ">60YRS(F)      0\n",
              " Total DI      0\n",
              "dtype: int64"
            ]
          },
          "metadata": {},
          "execution_count": 9
        }
      ],
      "source": [
        "dataset.isnull().sum()"
      ]
    },
    {
      "cell_type": "markdown",
      "metadata": {
        "id": "3J3NPsz3Nh0p"
      },
      "source": [
        "# **Outlier Detection**"
      ]
    },
    {
      "cell_type": "code",
      "source": [
        "plt.figure(figsize=(3,1))\n",
        "sns.boxplot(dataset['MWS'], color=\"lightgreen\", notch=True)\n",
        "sns.swarmplot(dataset['MWS'], color=\".25\")"
      ],
      "metadata": {
        "colab": {
          "base_uri": "https://localhost:8080/",
          "height": 134
        },
        "id": "wLCWA7i8WNXT",
        "outputId": "9b68f612-7f47-4943-8347-e4c9e6ca14c9"
      },
      "execution_count": 6,
      "outputs": [
        {
          "output_type": "execute_result",
          "data": {
            "text/plain": [
              "<matplotlib.axes._subplots.AxesSubplot at 0x7f54291c1910>"
            ]
          },
          "metadata": {},
          "execution_count": 6
        },
        {
          "output_type": "display_data",
          "data": {
            "text/plain": [
              "<Figure size 216x72 with 1 Axes>"
            ],
            "image/png": "[encoded data removed]"
          },
          "metadata": {
            "needs_background": "light"
          }
        }
      ]
    },
    {
      "cell_type": "code",
      "source": [
        "\n",
        "plt.figure(figsize=(1,1))\n",
        "ws = sns.kdeplot(dataset['MWS'], shade=True, color='green', alpha=.7)\n",
        "ws.set(ylabel=None)\n",
        "plt.title('Wind Speed \\n Density')\n",
        "plt.show()"
      ],
      "metadata": {
        "colab": {
          "base_uri": "https://localhost:8080/",
          "height": 147
        },
        "id": "fgOUIltmbiTn",
        "outputId": "367b752c-2025-4142-9d4b-f25dd39bd6f4"
      },
      "execution_count": 7,
      "outputs": [
        {
          "output_type": "display_data",
          "data": {
            "text/plain": [
              "<Figure size 72x72 with 1 Axes>"
            ],
            "image/png": "[encoded data removed]"
          },
          "metadata": {
            "needs_background": "light"
          }
        }
      ]
    },
    {
      "cell_type": "code",
      "execution_count": 8,
      "metadata": {
        "colab": {
          "base_uri": "https://localhost:8080/"
        },
        "id": "2jXysLA9GufZ",
        "outputId": "3def6b22-1db6-48a8-ce5b-3ef823d68152"
      },
      "outputs": [
        {
          "output_type": "stream",
          "name": "stdout",
          "text": [
            "8.723560606060605\n",
            "[24.9, 26.45, 26.48]\n"
          ]
        }
      ],
      "source": [
        "import statistics  \n",
        "mode = statistics.mean(dataset['MWS'])\n",
        "print(mode)\n",
        "mean = np.mean(dataset['MWS'])\n",
        "sd = np.std(dataset['MWS'])\n",
        "threshold = 2.5\n",
        "outliers = []\n",
        "for i in dataset['MWS']:\n",
        "  z = (i - mean) / sd\n",
        "  if abs(z) > threshold:\n",
        "    outliers.append(i)\n",
        "    dataset['MWS'] = dataset['MWS'].replace(i,mean)\n",
        "print(outliers)\n"
      ]
    },
    {
      "cell_type": "code",
      "source": [
        "plt.figure(figsize=(3,1))\n",
        "sns.boxplot(dataset['MMIN'], color=\"deeppink\", notch=True)\n",
        "sns.swarmplot(dataset['MMIN'], color=\".25\")"
      ],
      "metadata": {
        "colab": {
          "base_uri": "https://localhost:8080/",
          "height": 134
        },
        "id": "W9ooS9mBaTo9",
        "outputId": "d4ae1377-6d08-47f8-8cc9-fc9c8fd34fbf"
      },
      "execution_count": 9,
      "outputs": [
        {
          "output_type": "execute_result",
          "data": {
            "text/plain": [
              "<matplotlib.axes._subplots.AxesSubplot at 0x7f5426b7b350>"
            ]
          },
          "metadata": {},
          "execution_count": 9
        },
        {
          "output_type": "display_data",
          "data": {
            "text/plain": [
              "<Figure size 216x72 with 1 Axes>"
            ],
            "image/png": "[encoded data removed]"
          },
          "metadata": {
            "needs_background": "light"
          }
        }
      ]
    },
    {
      "cell_type": "code",
      "source": [
        "plt.figure(figsize=(1,1))\n",
        "min = sns.kdeplot(dataset['MMIN'], shade=True, color='red', alpha=.9)\n",
        "min.set(ylabel=None)\n",
        "plt.title('Min. Temperature \\n Density')\n",
        "plt.show()"
      ],
      "metadata": {
        "colab": {
          "base_uri": "https://localhost:8080/",
          "height": 147
        },
        "id": "My7b51q8bYh3",
        "outputId": "da7e94ff-fe6e-452c-c7da-7de0d94a9ab0"
      },
      "execution_count": 10,
      "outputs": [
        {
          "output_type": "display_data",
          "data": {
            "text/plain": [
              "<Figure size 72x72 with 1 Axes>"
            ],
            "image/png": "[encoded data removed]"
          },
          "metadata": {
            "needs_background": "light"
          }
        }
      ]
    },
    {
      "cell_type": "code",
      "execution_count": 11,
      "metadata": {
        "colab": {
          "base_uri": "https://localhost:8080/"
        },
        "id": "XUwSXgk2WF5T",
        "outputId": "aab2fcde-3a18-4763-93a7-22e86aa6e083"
      },
      "outputs": [
        {
          "output_type": "stream",
          "name": "stdout",
          "text": [
            "25.31022727272727\n",
            "[18.8, 18.2, 19.1]\n"
          ]
        }
      ],
      "source": [
        "mean = statistics.mean(dataset['MMIN'])\n",
        "print(mean)\n",
        "mean = np.mean(dataset['MMIN'])\n",
        "sd = np.std(dataset['MMIN'])\n",
        "threshold = 2.5\n",
        "outliers = []\n",
        "for i in dataset['MMIN']:\n",
        "  z = (i - mean) / sd\n",
        "  if abs(z) > threshold:\n",
        "    outliers.append(i)\n",
        "    dataset['MMIN'] = dataset['MMIN'].replace(i,mean)\n",
        "print(outliers)"
      ]
    },
    {
      "cell_type": "code",
      "source": [
        "plt.figure(figsize=(3,1))\n",
        "sns.boxplot(dataset['MMAX'], color=\"skyblue\", notch=True)\n",
        "sns.swarmplot(dataset['MMAX'], color=\".25\")"
      ],
      "metadata": {
        "colab": {
          "base_uri": "https://localhost:8080/"
        },
        "id": "BA5HxbDqarSp",
        "outputId": "25727c01-c4bf-4508-d057-10608bc60b6b"
      },
      "execution_count": null,
      "outputs": [
        {
          "output_type": "execute_result",
          "data": {
            "text/plain": [
              "<matplotlib.axes._subplots.AxesSubplot at 0x7f31a0ec6c50>"
            ]
          },
          "metadata": {},
          "execution_count": 16
        },
        {
          "output_type": "display_data",
          "data": {
            "text/plain": [
              "<Figure size 216x72 with 1 Axes>"
            ],
            "image/png": "[encoded data removed]"
          },
          "metadata": {
            "needs_background": "light"
          }
        }
      ]
    },
    {
      "cell_type": "code",
      "source": [
        "plt.figure(figsize=(1,1))\n",
        "sns.kdeplot(dataset['MMAX'], shade=True, alpha=.9)\n",
        "plt.title('Max. Temperature \\n Density')\n",
        "plt.show()"
      ],
      "metadata": {
        "colab": {
          "base_uri": "https://localhost:8080/"
        },
        "id": "E4bkbXPZNrYD",
        "outputId": "6de75711-aa95-49e9-c484-b7ff4fe4624e"
      },
      "execution_count": null,
      "outputs": [
        {
          "output_type": "display_data",
          "data": {
            "text/plain": [
              "<Figure size 72x72 with 1 Axes>"
            ],
            "image/png": "[encoded data removed]"
          },
          "metadata": {
            "needs_background": "light"
          }
        }
      ]
    },
    {
      "cell_type": "code",
      "execution_count": 12,
      "metadata": {
        "colab": {
          "base_uri": "https://localhost:8080/"
        },
        "id": "jBlzTif5WjWl",
        "outputId": "714e9926-e711-49e0-86de-dd3d0f2254ed"
      },
      "outputs": [
        {
          "output_type": "stream",
          "name": "stdout",
          "text": [
            "31.559848484848484\n",
            "[]\n"
          ]
        }
      ],
      "source": [
        "mean = statistics.mean(dataset['MMAX'])\n",
        "print(mean)\n",
        "mean = np.mean(dataset['MMAX'])\n",
        "sd = np.std(dataset['MMAX'])\n",
        "threshold = 2.5\n",
        "outliers = []\n",
        "for i in dataset['MMAX']:\n",
        "  z = (i - mean) / sd\n",
        "  if abs(z) > threshold:\n",
        "    outliers.append(i)\n",
        "    dataset['MMAX'] = dataset['MMAX'].replace(i,mean)\n",
        "print(outliers)"
      ]
    },
    {
      "cell_type": "code",
      "source": [
        "plt.figure(figsize=(3,1))\n",
        "sns.boxplot(dataset['TMRF'], color=\"yellow\", notch=True,)\n",
        "sns.swarmplot(dataset['TMRF'], color=\".25\")"
      ],
      "metadata": {
        "colab": {
          "base_uri": "https://localhost:8080/"
        },
        "id": "IstyYI4Ia-wm",
        "outputId": "4078ae7e-86a7-4f8d-924b-2ba9eb29922b"
      },
      "execution_count": null,
      "outputs": [
        {
          "output_type": "execute_result",
          "data": {
            "text/plain": [
              "<matplotlib.axes._subplots.AxesSubplot at 0x7f31a0e211d0>"
            ]
          },
          "metadata": {},
          "execution_count": 19
        },
        {
          "output_type": "display_data",
          "data": {
            "text/plain": [
              "<Figure size 216x72 with 1 Axes>"
            ],
            "image/png": "[encoded data removed]"
          },
          "metadata": {
            "needs_background": "light"
          }
        }
      ]
    },
    {
      "cell_type": "code",
      "source": [
        "plt.figure(figsize=(1,1))\n",
        "tm = sns.kdeplot(dataset['TMRF'], shade=True, color='purple', alpha=.7)\n",
        "tm.set(ylabel=None)\n",
        "plt.title('Rainfall \\n Density')\n",
        "plt.show()"
      ],
      "metadata": {
        "colab": {
          "base_uri": "https://localhost:8080/"
        },
        "id": "3cchB_OIb6iZ",
        "outputId": "a80271cd-3295-4909-eddb-abfa3b8fafd7"
      },
      "execution_count": null,
      "outputs": [
        {
          "output_type": "display_data",
          "data": {
            "text/plain": [
              "<Figure size 72x72 with 1 Axes>"
            ],
            "image/png": "[encoded data removed]"
          },
          "metadata": {
            "needs_background": "light"
          }
        }
      ]
    },
    {
      "cell_type": "code",
      "execution_count": 13,
      "metadata": {
        "colab": {
          "base_uri": "https://localhost:8080/"
        },
        "id": "pC2EjXugWu2u",
        "outputId": "d9baca6a-c296-4ab6-ca32-3468fb6fedde"
      },
      "outputs": [
        {
          "output_type": "stream",
          "name": "stdout",
          "text": [
            "85.79878787878788\n",
            "[1278.2, 783.3, 951.3, 850.6, 1356.9, 866.3]\n"
          ]
        }
      ],
      "source": [
        "mean = statistics.mean(dataset['TMRF'])\n",
        "print(mean)\n",
        "mean = np.mean(dataset['TMRF'])\n",
        "sd = np.std(dataset['TMRF'])\n",
        "threshold = 2.5\n",
        "outliers = []\n",
        "for i in dataset['TMRF']:\n",
        "  z = (i - mean) / sd\n",
        "  if abs(z) > threshold:\n",
        "    outliers.append(i)\n",
        "    dataset['TMRF'] = dataset['TMRF'].replace(i,mean)\n",
        "print(outliers)"
      ]
    },
    {
      "cell_type": "code",
      "source": [
        "plt.figure(figsize=(3,1))\n",
        "sns.boxplot(dataset['RH'], color=\"orange\", notch=True)\n",
        "sns.swarmplot(dataset['RH'], color=\".25\")"
      ],
      "metadata": {
        "colab": {
          "base_uri": "https://localhost:8080/"
        },
        "id": "3c8Q-2L1bbz4",
        "outputId": "b0d03afd-6acf-4019-eb0f-845bc87ab9da"
      },
      "execution_count": null,
      "outputs": [
        {
          "output_type": "execute_result",
          "data": {
            "text/plain": [
              "<matplotlib.axes._subplots.AxesSubplot at 0x7f31a0d5e550>"
            ]
          },
          "metadata": {},
          "execution_count": 22
        },
        {
          "output_type": "display_data",
          "data": {
            "text/plain": [
              "<Figure size 216x72 with 1 Axes>"
            ],
            "image/png": "[encoded data removed]"
          },
          "metadata": {
            "needs_background": "light"
          }
        }
      ]
    },
    {
      "cell_type": "code",
      "source": [
        "plt.figure(figsize=(1,1))\n",
        "rh = sns.kdeplot(dataset['RH'], shade=True, color='orange', alpha=.7\n",
        "                 )\n",
        "rh.set(ylabel=None)\n",
        "plt.title('Relative Humidity \\n Density')\n",
        "plt.show()"
      ],
      "metadata": {
        "colab": {
          "base_uri": "https://localhost:8080/"
        },
        "id": "YgirQVHfbqAc",
        "outputId": "63b24180-f344-42f4-e722-dad360502b16"
      },
      "execution_count": null,
      "outputs": [
        {
          "output_type": "display_data",
          "data": {
            "text/plain": [
              "<Figure size 72x72 with 1 Axes>"
            ],
            "image/png": "[encoded data removed]"
          },
          "metadata": {
            "needs_background": "light"
          }
        }
      ]
    },
    {
      "cell_type": "code",
      "execution_count": 14,
      "metadata": {
        "colab": {
          "base_uri": "https://localhost:8080/"
        },
        "id": "2VdZRl67W-Kb",
        "outputId": "1670e550-8583-4e97-9e71-ec072b86fc29"
      },
      "outputs": [
        {
          "output_type": "stream",
          "name": "stdout",
          "text": [
            "73.985\n",
            "[0.0]\n"
          ]
        }
      ],
      "source": [
        "mean = statistics.mean(dataset['RH'])\n",
        "print(mean)\n",
        "mean = np.mean(dataset['RH'])\n",
        "sd = np.std(dataset['RH'])\n",
        "threshold = 2.5\n",
        "outliers = []\n",
        "for i in dataset['RH']:\n",
        "  z = (i - mean) / sd\n",
        "  if abs(z) > threshold:\n",
        "    outliers.append(i)\n",
        "    dataset['RH'] = dataset['RH'].replace(i,mode)\n",
        "print(outliers)"
      ]
    },
    {
      "cell_type": "markdown",
      "metadata": {
        "id": "dPRyWhkyN_TH"
      },
      "source": [
        "# **Feature Plot**"
      ]
    },
    {
      "cell_type": "code",
      "source": [
        "from mpl_toolkits.axes_grid1 import host_subplot \n",
        "import mpl_toolkits.axisartist as AA \n",
        "import matplotlib.pyplot as plt\n",
        "\n",
        "host = host_subplot(111, axes_class=AA.Axes)\n",
        "plt.subplots_adjust(right=0.75)\n",
        "\n",
        "par1 = host.twinx()\n",
        "par2 = host.twinx()\n",
        "par3 = host.twinx()\n",
        "par4 = host.twinx()\n",
        "\n",
        "offset = 180\n",
        "new_fixed_axis = par4.get_grid_helper().new_fixed_axis\n",
        "par4.axis[\"right\"] = new_fixed_axis(loc=\"right\",\n",
        "                                    axes=par4,\n",
        "                                    offset=(offset, 0))\n",
        "\n",
        "offset = 120\n",
        "new_fixed_axis = par3.get_grid_helper().new_fixed_axis\n",
        "par3.axis[\"right\"] = new_fixed_axis(loc=\"right\",\n",
        "                                    axes=par3,\n",
        "                                    offset=(offset, 0))\n",
        "\n",
        "offset = 60\n",
        "new_fixed_axis = par2.get_grid_helper().new_fixed_axis\n",
        "par2.axis[\"right\"] = new_fixed_axis(loc=\"right\",\n",
        "                                    axes=par2,\n",
        "                                    offset=(offset, 0))\n",
        "\n",
        "par1.axis[\"right\"].toggle(all=True)\n",
        "\n",
        "host.set_xlim(1, 12)\n",
        "host.set_ylim(10, 45)\n",
        "\n",
        "host.set_xlabel(\"Months\")\n",
        "host.set_ylabel(\"Temperature\")\n",
        "par1.set_ylabel(\"TMRF\")\n",
        "par2.set_ylabel(\"RH\")\n",
        "par3.set_ylabel(\"MWS\")\n",
        "par4.set_ylabel(\"No. of Incidence\")\n",
        "\n",
        "month = dataset.iloc[0:12,0]\n",
        "\n",
        "mmax = dataset.iloc[0:12,1]\n",
        "\n",
        "mmin = dataset.iloc[0:12,2]\n",
        "\n",
        "tmrf = dataset.iloc[0:12,3]\n",
        "\n",
        "rh = dataset.iloc[0:12,4]\n",
        "\n",
        "mws = dataset.iloc[0:12,5]\n",
        "\n",
        "nod = dataset.iloc[0:12,6]\n",
        "\n",
        "nod1 = dataset.iloc[0:12,7]\n",
        "\n",
        "nod2 = dataset.iloc[0:12,8]\n",
        "\n",
        "nod3 = dataset.iloc[0:12,9]\n",
        "\n",
        "p1, = host.plot(month, mmax, label=\"MMAX\", linewidth=3.0)\n",
        "p2, = host.plot(month, mmin, label=\"MMIN\", linewidth=3.0)\n",
        "p3, = par1.plot(month, tmrf, label=\"TMRF\", linewidth=3.0)\n",
        "p4, = par2.plot(month, rh, label = \"RH\", linewidth=3.0)\n",
        "p5, = par3.plot(month, mws, label = \"MWS\", linewidth=3.0)\n",
        "p6, = par4.plot(month, nod, label=\"<14YRS(M)\", linewidth=3.0)\n",
        "p7, = par4.plot(month, nod1, label=\"14-25YRS(M)\", linewidth=3.0)\n",
        "p7, = par4.plot(month, nod2, label=\"26-60YRS(M)\", linewidth=3.0)\n",
        "p7, = par4.plot(month, nod3, label=\">60YRS(M)\", linewidth=3.0)\n",
        "\n",
        "par1.set_ylim(0, 800)\n",
        "par2.set_ylim(1, 95)\n",
        "par3.set_ylim(1,7)\n",
        "par4.set_ylim(1,40)\n",
        "\n",
        "host.legend(bbox_to_anchor=(-0.2, 1.05))\n",
        "\n",
        "host.axis[\"left\"].label.set_color(p1.get_color())\n",
        "host.axis[\"left\"].label.set_color(p2.get_color())\n",
        "par1.axis[\"right\"].label.set_color(p3.get_color())\n",
        "par2.axis[\"right\"].label.set_color(p4.get_color())\n",
        "par3.axis[\"right\"].label.set_color(p5.get_color())\n",
        "par4.axis[\"right\"].label.set_color(p6.get_color())\n",
        "\n",
        "plt.draw()\n",
        "plt.title(\"Feature plot for Climatic Variables and Male Age groups for Mumbai City \\n\", pad=10)"
      ],
      "metadata": {
        "colab": {
          "base_uri": "https://localhost:8080/",
          "height": 328
        },
        "id": "84ZDF4Nt4PI9",
        "outputId": "ce89a361-4762-40c0-fa8a-24154a3ffe40"
      },
      "execution_count": null,
      "outputs": [
        {
          "output_type": "execute_result",
          "data": {
            "text/plain": [
              "Text(0.5, 1.0, 'Feature plot for Climatic Variables and Male Age groups for Mumbai City \\n')"
            ]
          },
          "metadata": {},
          "execution_count": 25
        },
        {
          "output_type": "display_data",
          "data": {
            "image/png": "[encoded data removed]",
            "text/plain": [
              "<Figure size 432x288 with 1 Axes>"
            ]
          },
          "metadata": {
            "needs_background": "light"
          }
        }
      ]
    },
    {
      "cell_type": "code",
      "source": [
        "host = host_subplot(111, axes_class=AA.Axes)\n",
        "plt.subplots_adjust(right=0.75)\n",
        "\n",
        "par1 = host.twinx()\n",
        "par2 = host.twinx()\n",
        "par3 = host.twinx()\n",
        "par4 = host.twinx()\n",
        "\n",
        "offset = 180\n",
        "new_fixed_axis = par4.get_grid_helper().new_fixed_axis\n",
        "par4.axis[\"right\"] = new_fixed_axis(loc=\"right\",\n",
        "                                    axes=par4,\n",
        "                                    offset=(offset, 0))\n",
        "\n",
        "offset = 120\n",
        "new_fixed_axis = par3.get_grid_helper().new_fixed_axis\n",
        "par3.axis[\"right\"] = new_fixed_axis(loc=\"right\",\n",
        "                                    axes=par3,\n",
        "                                    offset=(offset, 0))\n",
        "\n",
        "offset = 60\n",
        "new_fixed_axis = par2.get_grid_helper().new_fixed_axis\n",
        "par2.axis[\"right\"] = new_fixed_axis(loc=\"right\",\n",
        "                                    axes=par2,\n",
        "                                    offset=(offset, 0))\n",
        "\n",
        "par1.axis[\"right\"].toggle(all=True)\n",
        "\n",
        "host.set_xlim(1, 12)\n",
        "host.set_ylim(10, 45)\n",
        "\n",
        "host.set_xlabel(\"Months\")\n",
        "host.set_ylabel(\"Temperature\")\n",
        "par1.set_ylabel(\"TMRF\")\n",
        "par2.set_ylabel(\"RH\")\n",
        "par3.set_ylabel(\"MWS\")\n",
        "par4.set_ylabel(\"No. of Incidence\")\n",
        "\n",
        "month = dataset.iloc[0:12,0]\n",
        "\n",
        "mmax = dataset.iloc[0:12,1]\n",
        "\n",
        "mmin = dataset.iloc[0:12,2]\n",
        "\n",
        "tmrf = dataset.iloc[0:12,3]\n",
        "\n",
        "rh = dataset.iloc[0:12,4]\n",
        "\n",
        "mws = dataset.iloc[0:12,5]\n",
        "\n",
        "nod = dataset.iloc[0:12,10]\n",
        "\n",
        "nod1 = dataset.iloc[0:12,11]\n",
        "\n",
        "nod2 = dataset.iloc[0:12,12]\n",
        "\n",
        "nod3 = dataset.iloc[0:12,13]\n",
        "\n",
        "p1, = host.plot(month, mmax, label=\"MMAX\", linewidth=3.0)\n",
        "p2, = host.plot(month, mmin, label=\"MMIN\", linewidth=3.0)\n",
        "p3, = par1.plot(month, tmrf, label=\"TMRF\", linewidth=3.0)\n",
        "p4, = par2.plot(month, rh, label = \"RH\", linewidth=3.0)\n",
        "p5, = par3.plot(month, mws, label = \"MWS\", linewidth=3.0)\n",
        "p6, = par4.plot(month, nod, label=\"<14YRS(F)\", linewidth=3.0)\n",
        "p7, = par4.plot(month, nod1, label=\"14-25YRS(F)\", linewidth=3.0)\n",
        "p7, = par4.plot(month, nod2, label=\"26-60YRS(F)\", linewidth=3.0)\n",
        "p7, = par4.plot(month, nod3, label=\">60YRS(F)\", linewidth=3.0)\n",
        "\n",
        "par1.set_ylim(0, 800)\n",
        "par2.set_ylim(1, 95)\n",
        "par3.set_ylim(1,7)\n",
        "par4.set_ylim(1,35)\n",
        "\n",
        "host.legend(bbox_to_anchor=(-0.2, 1.05))\n",
        "\n",
        "host.axis[\"left\"].label.set_color(p1.get_color())\n",
        "host.axis[\"left\"].label.set_color(p2.get_color())\n",
        "par1.axis[\"right\"].label.set_color(p3.get_color())\n",
        "par2.axis[\"right\"].label.set_color(p4.get_color())\n",
        "par3.axis[\"right\"].label.set_color(p5.get_color())\n",
        "par4.axis[\"right\"].label.set_color(p6.get_color())\n",
        "\n",
        "plt.draw()\n",
        "plt.title(\"Feature plot for Climatic Variables and Female Age groups for Mumbai City \\n\", pad=10)"
      ],
      "metadata": {
        "colab": {
          "base_uri": "https://localhost:8080/",
          "height": 328
        },
        "id": "GDZH1mQh9zmE",
        "outputId": "5b77f6d2-555b-48ea-b54e-95fc86cc35b5"
      },
      "execution_count": null,
      "outputs": [
        {
          "output_type": "execute_result",
          "data": {
            "text/plain": [
              "Text(0.5, 1.0, 'Feature plot for Climatic Variables and Female Age groups for Mumbai City \\n')"
            ]
          },
          "metadata": {},
          "execution_count": 26
        },
        {
          "output_type": "display_data",
          "data": {
            "image/png": "[encoded data removed]",
            "text/plain": [
              "<Figure size 432x288 with 1 Axes>"
            ]
          },
          "metadata": {
            "needs_background": "light"
          }
        }
      ]
    },
    {
      "cell_type": "markdown",
      "metadata": {
        "id": "DaperuTnNvsE"
      },
      "source": [
        "## **Correlation Analysis**"
      ]
    },
    {
      "cell_type": "code",
      "execution_count": null,
      "metadata": {
        "colab": {
          "base_uri": "https://localhost:8080/",
          "height": 532
        },
        "id": "FOrPvv_hK8WG",
        "outputId": "f0bff434-9dcd-47bc-9406-170537d87132"
      },
      "outputs": [
        {
          "output_type": "execute_result",
          "data": {
            "text/plain": [
              "<matplotlib.axes._subplots.AxesSubplot at 0x7f79099c7a50>"
            ]
          },
          "metadata": {},
          "execution_count": 27
        },
        {
          "output_type": "display_data",
          "data": {
            "image/png": "[encoded data removed]",
            "text/plain": [
              "<Figure size 720x504 with 2 Axes>"
            ]
          },
          "metadata": {
            "needs_background": "light"
          }
        }
      ],
      "source": [
        "d = (dataset.iloc[:, [1,2,3,4,5,6,7,8,9,10,11,12,13,14]] ).corr()\n",
        "plt.figure(figsize=(10,7))\n",
        "ax = plt.axes()\n",
        "ax.set_title('Spearman Correlation between Climate Factors and Dengue Patient\\'s age group and gender of Mumbai City \\n')\n",
        "sns.heatmap(d.corr(method='spearman'), annot=True, mask=np.triu(d.corr(method='spearman')))"
      ]
    },
    {
      "cell_type": "code",
      "source": [
        "from sklearn.feature_selection import VarianceThreshold\n",
        "\n",
        "var_thr = VarianceThreshold(threshold=0.25) #Removing both constant and quasi-constant\n",
        "var_thr.fit(dataset.iloc[:, [1,2,3,4,5]])\n",
        "\n",
        "var_thr.get_support()"
      ],
      "metadata": {
        "colab": {
          "base_uri": "https://localhost:8080/"
        },
        "id": "zeznqrqwKyeY",
        "outputId": "d56b4d2a-7e3b-4e21-f712-3437f40947d5"
      },
      "execution_count": null,
      "outputs": [
        {
          "output_type": "execute_result",
          "data": {
            "text/plain": [
              "array([ True,  True,  True,  True,  True])"
            ]
          },
          "metadata": {},
          "execution_count": 28
        }
      ]
    },
    {
      "cell_type": "markdown",
      "metadata": {
        "id": "CskmjvhX5Jvz"
      },
      "source": [
        "### **Multiple Linear Regression**\n"
      ]
    },
    {
      "cell_type": "code",
      "execution_count": null,
      "metadata": {
        "colab": {
          "base_uri": "https://localhost:8080/"
        },
        "id": "uYIBSJd9pyOG",
        "outputId": "68cb7fd7-5320-42f7-f19f-f6df163d2890"
      },
      "outputs": [
        {
          "output_type": "stream",
          "name": "stdout",
          "text": [
            "RMSE: 6.88779068570453\n",
            "MAE: 5.649064462017367\n",
            "R-SQUARED 0.16910987587865367\n"
          ]
        }
      ],
      "source": [
        "X = dataset.iloc[:,[1,2,3,4,5]]\n",
        "y = dataset.iloc[:,[6]]\n",
        "\n",
        "X_train, X_test, y_train, y_test = train_test_split(X, y, \n",
        "                        test_size = 0.2, random_state = 0)\n",
        "\n",
        "\n",
        "# sc = StandardScaler()\n",
        "# X_train = sc.fit_transform(X_train)\n",
        "# X_test = sc.transform(X_test)\n",
        "\n",
        "regressor_linear = LinearRegression()\n",
        "regressor_linear.fit(X_train, y_train)\n",
        "\n",
        "y_pred =regressor_linear.predict(X_test)\n",
        "from sklearn.metrics import max_error\n",
        "print('RMSE:', np.sqrt(mean_squared_error(y_test,y_pred)))\n",
        "print ('MAE:',mean_absolute_error(y_test,y_pred))\n",
        "print('R-SQUARED', r2_score(y_test, y_pred))\n",
        "\n"
      ]
    },
    {
      "cell_type": "markdown",
      "metadata": {
        "id": "A9RuNlzw5b4G"
      },
      "source": [
        "### **LASSO Regression**"
      ]
    },
    {
      "cell_type": "code",
      "execution_count": null,
      "metadata": {
        "colab": {
          "base_uri": "https://localhost:8080/"
        },
        "id": "rRv3KDAE5mc-",
        "outputId": "5168552b-fe81-4821-fb14-ba7909359ce2"
      },
      "outputs": [
        {
          "output_type": "stream",
          "name": "stdout",
          "text": [
            "RMSE: 6.981791954543758\n",
            "MAE: 5.82008835767874\n",
            "R-SQUARED 0.1462759375463245\n"
          ]
        }
      ],
      "source": [
        "X = dataset.iloc[:,[1,2,3,4,5]]\n",
        "y = dataset.iloc[:,[6]]\n",
        "\n",
        "X_train, X_test, y_train, y_test = train_test_split(X, y, \n",
        "                        test_size = 0.2, random_state = 0)\n",
        "\n",
        "sc = StandardScaler()\n",
        "X_train = sc.fit_transform(X_train)\n",
        "X_test = sc.transform(X_test)\n",
        "\n",
        "lasso_model = Lasso().fit(X_train,y_train)\n",
        "\n",
        "y_pred = lasso_model.predict(X_test)\n",
        "\n",
        "print('RMSE:', np.sqrt(mean_squared_error(y_test,y_pred)))\n",
        "print ('MAE:',mean_absolute_error(y_test,y_pred))\n",
        "print('R-SQUARED', r2_score(y_test, y_pred))"
      ]
    },
    {
      "cell_type": "markdown",
      "metadata": {
        "id": "1XZRPb87ZOjo"
      },
      "source": [
        "# **Support Vector Machine**"
      ]
    },
    {
      "cell_type": "code",
      "execution_count": null,
      "metadata": {
        "colab": {
          "base_uri": "https://localhost:8080/"
        },
        "id": "Q1Xza0E2a1Es",
        "outputId": "3543c47e-b576-45cd-fd88-d2e7cf159b2c"
      },
      "outputs": [
        {
          "output_type": "stream",
          "name": "stdout",
          "text": [
            "MAE: 5.498435435084949\n",
            "RMSE: 7.20253909485751\n",
            "R-SQUARED 0.09143717321638578\n"
          ]
        }
      ],
      "source": [
        "X = dataset.iloc[:,[1,2,3,4,5]]\n",
        "y = dataset.iloc[:,[6]]\n",
        "\n",
        "X_train, X_test, y_train, y_test = train_test_split(X, y, \n",
        "                        test_size = 0.2, random_state = 0)\n",
        "\n",
        "\n",
        "sc = StandardScaler()\n",
        "X_train = sc.fit_transform(X_train)\n",
        "X_test = sc.transform(X_test)\n",
        "\n",
        "Svr_regressor = SVR(kernel = 'rbf')\n",
        "Svr_regressor.fit(X_train, y_train)\n",
        "\n",
        "y_pred =Svr_regressor.predict(X_test)\n",
        "\n",
        "print ('MAE:',mean_absolute_error(y_test,y_pred))\n",
        "print('RMSE:', np.sqrt(mean_squared_error(y_test,y_pred)))\n",
        "print('R-SQUARED', r2_score(y_test, y_pred))"
      ]
    },
    {
      "cell_type": "markdown",
      "metadata": {
        "id": "MpGXKBXV_c-k"
      },
      "source": [
        "### **Decision Tree**"
      ]
    },
    {
      "cell_type": "code",
      "execution_count": null,
      "metadata": {
        "colab": {
          "base_uri": "https://localhost:8080/"
        },
        "id": "r-jVVZdr_iYq",
        "outputId": "2f13da17-2a8b-4c03-ec8e-7c3649d4e6cb"
      },
      "outputs": [
        {
          "output_type": "stream",
          "name": "stdout",
          "text": [
            "Root Mean Sqaured Error: 9.655165571973493\n",
            "R-Sqaured Error: -0.6326878723813183\n",
            "Mean Absolute Error: 8.25925925925926\n"
          ]
        }
      ],
      "source": [
        "X = dataset.iloc[:,[1,2,3,4,5]]\n",
        "y = dataset.iloc[:,[6]]\n",
        "\n",
        "X_train, X_test, y_train, y_test = train_test_split(X, y, \n",
        "                        test_size = 0.2, random_state = 0)\n",
        "\n",
        "\n",
        "sc = StandardScaler()\n",
        "X_train = sc.fit_transform(X_train)\n",
        "X_test = sc.transform(X_test)\n",
        "\n",
        "regressor_decison = DecisionTreeRegressor(random_state = 10,criterion='mae',splitter='random')\n",
        "regressor_decison.fit(X_train, y_train)\n",
        "\n",
        "y_pred_decison =regressor_decison.predict(X_test)\n",
        "\n",
        "rmse_decsion = np.sqrt(mean_squared_error(y_test,y_pred_decison))\n",
        "Rsqure_descion =r2_score(y_test, y_pred_decison)\n",
        "mean_absolute_error_desicon =mean_absolute_error(y_test, y_pred_decison)\n",
        "print(\"Root Mean Sqaured Error:\",rmse_decsion)\n",
        "print(\"R-Sqaured Error:\",Rsqure_descion)\n",
        "print(\"Mean Absolute Error:\",mean_absolute_error_desicon)"
      ]
    },
    {
      "cell_type": "markdown",
      "source": [
        "**Elastic Model**"
      ],
      "metadata": {
        "id": "lOVae85j_B61"
      }
    },
    {
      "cell_type": "code",
      "source": [
        "X = dataset.iloc[:,[1,2,3,4,5]]\n",
        "y = dataset.iloc[:,[6]]\n",
        "\n",
        "X_train, X_test, y_train, y_test = train_test_split(X, y, \n",
        "                        test_size = 0.2, random_state = 0)\n",
        "\n",
        "\n",
        "sc = StandardScaler()\n",
        "X_train = sc.fit_transform(X_train)\n",
        "X_test = sc.transform(X_test)\n",
        "\n",
        "from sklearn.linear_model import ElasticNet\n",
        "model = ElasticNet(alpha=1.0, l1_ratio=0.5)\n",
        "model.fit(X_train, y_train)\n",
        "y_pred_model =model.predict(X_test)\n",
        "from sklearn import metrics\n",
        "rmse_elastic = np.sqrt(metrics.mean_squared_error(y_test,y_pred_model))\n",
        "Rsqure_elastic =r2_score(y_test, y_pred_model)\n",
        "mean_absolute_error_elastic =metrics.mean_absolute_error(y_test, y_pred_model)\n",
        "print(\"Root Mean Sqaured Error:\",rmse_elastic)\n",
        "print(\"R-Sqaured Error:\",Rsqure_elastic)\n",
        "print(\"Mean Absolute Error:\",mean_absolute_error_elastic)"
      ],
      "metadata": {
        "colab": {
          "base_uri": "https://localhost:8080/"
        },
        "id": "H2AZXtkp-2iS",
        "outputId": "9d968686-91a4-4a2c-c541-c83c17fb8787"
      },
      "execution_count": null,
      "outputs": [
        {
          "output_type": "stream",
          "name": "stdout",
          "text": [
            "Root Mean Sqaured Error: 6.919829980973011\n",
            "R-Sqaured Error: 0.16136194892603617\n",
            "Mean Absolute Error: 5.703111427169129\n"
          ]
        }
      ]
    },
    {
      "cell_type": "code",
      "source": [
        "from sklearn.preprocessing import PolynomialFeatures \n",
        "  \n",
        "X = dataset.iloc[:,[1,2,3,4,5]]\n",
        "y = dataset.iloc[:,[6]]\n",
        "\n",
        "X_train, X_test, y_train, y_test = train_test_split(X, y, \n",
        "                        test_size = 0.2, random_state = 0)\n",
        "\n",
        "\n",
        "sc = StandardScaler()\n",
        "X_train = sc.fit_transform(X_train)\n",
        "X_test = sc.transform(X_test)\n",
        "\n",
        "polynom = PolynomialFeatures(degree = 2) \n",
        "X_polynom = polynom.fit_transform(X_train) \n",
        "  \n",
        "PolyReg = LinearRegression(normalize=True,fit_intercept=False) \n",
        "PolyReg.fit(X_polynom, y_train)\n",
        "\n",
        "y_pred_poly =PolyReg.predict((polynom.fit_transform(X_test)))\n",
        "\n",
        "rmse_poly = np.sqrt(metrics.mean_squared_error(y_test,y_pred_poly))\n",
        "Rsqure_poly =r2_score(y_test, y_pred_poly)\n",
        "mean_absolute_error_poly =metrics.mean_absolute_error(y_test, y_pred_poly)\n",
        "print(\"Root Mean Sqaured Error:\",rmse_poly)\n",
        "print(\"R-Sqaured Error:\",Rsqure_poly) \n",
        "print(\"Mean Absolute Error:\",mean_absolute_error_poly)"
      ],
      "metadata": {
        "colab": {
          "base_uri": "https://localhost:8080/"
        },
        "id": "J-_CcLTz_AeB",
        "outputId": "7ce6b0a9-d75a-498c-c9a7-4d9b75e19b34"
      },
      "execution_count": null,
      "outputs": [
        {
          "output_type": "stream",
          "name": "stdout",
          "text": [
            "Root Mean Sqaured Error: 7.898065904118227\n",
            "R-Sqaured Error: -0.09250949989920376\n",
            "Mean Absolute Error: 6.488003881294727\n"
          ]
        }
      ]
    },
    {
      "cell_type": "markdown",
      "metadata": {
        "id": "-2lCXD1AeWxS"
      },
      "source": [
        "# **Prediction Model**"
      ]
    },
    {
      "cell_type": "markdown",
      "metadata": {
        "id": "r2pu8su8ea41"
      },
      "source": [
        "## **Dependency Relationship using MultiVariable Logistic Regression**"
      ]
    },
    {
      "cell_type": "code",
      "execution_count": null,
      "metadata": {
        "id": "5mgRk8cA-T3y"
      },
      "outputs": [],
      "source": [
        "dataset['Dependency'] = dataset.corrwith(dataset.iloc[0], axis=1)"
      ]
    },
    {
      "cell_type": "code",
      "execution_count": null,
      "metadata": {
        "id": "D1OskWtA-eFs"
      },
      "outputs": [],
      "source": [
        "for i in dataset['Dependency']:\n",
        "  if i > 0.6:\n",
        "    dataset['Dependency'] = dataset['Dependency'].replace(i,1)\n",
        "  else:\n",
        "    dataset['Dependency'] = dataset['Dependency'].replace(i,0)"
      ]
    },
    {
      "cell_type": "code",
      "execution_count": null,
      "metadata": {
        "colab": {
          "base_uri": "https://localhost:8080/"
        },
        "id": "KKhciegrBA-W",
        "outputId": "9dfb59bc-865c-49c1-8cb7-662aaf3089d7"
      },
      "outputs": [
        {
          "output_type": "execute_result",
          "data": {
            "text/plain": [
              "18"
            ]
          },
          "metadata": {},
          "execution_count": 24
        }
      ],
      "source": [
        "(dataset['Dependency'] == 0 ).sum(axis=0)"
      ]
    },
    {
      "cell_type": "code",
      "execution_count": null,
      "metadata": {
        "id": "Jb5hPSWZBbIv"
      },
      "outputs": [],
      "source": [
        "X = dataset.iloc[:, [1,2,3,4,5,6]]\n",
        "y = dataset.iloc[:, [15]]\n",
        "from sklearn.model_selection import train_test_split\n",
        "X_train, X_test, y_train, y_test = train_test_split(X, y, \n",
        "                    test_size = 0.25, random_state = 0)"
      ]
    },
    {
      "cell_type": "code",
      "execution_count": null,
      "metadata": {
        "id": "5yHPTRSkDbzS"
      },
      "outputs": [],
      "source": [
        "sc = StandardScaler()\n",
        "X_train = sc.fit_transform(X_train)\n",
        "X_test = sc.transform(X_test)"
      ]
    },
    {
      "cell_type": "code",
      "execution_count": null,
      "metadata": {
        "colab": {
          "base_uri": "https://localhost:8080/"
        },
        "id": "e0pFVAmciHQs",
        "outputId": "7717a5f5-210f-4995-c62d-53f8ff2a1732"
      },
      "outputs": [
        {
          "output_type": "execute_result",
          "data": {
            "text/plain": [
              "LogisticRegression(random_state=0)"
            ]
          },
          "metadata": {},
          "execution_count": 27
        }
      ],
      "source": [
        "classifier = LogisticRegression(random_state = 0)\n",
        "classifier.fit(X_train, y_train)"
      ]
    },
    {
      "cell_type": "code",
      "execution_count": null,
      "metadata": {
        "colab": {
          "base_uri": "https://localhost:8080/"
        },
        "id": "asqncwpMn2r_",
        "outputId": "31f72ff3-ce7f-455e-f267-d2a2f4b67e16"
      },
      "outputs": [
        {
          "output_type": "stream",
          "name": "stdout",
          "text": [
            "[[ 4  1]\n",
            " [ 0 28]]\n"
          ]
        },
        {
          "output_type": "execute_result",
          "data": {
            "text/plain": [
              "0.9696969696969697"
            ]
          },
          "metadata": {},
          "execution_count": 28
        }
      ],
      "source": [
        "y_pred = classifier.predict(X_test)\n",
        "cm = confusion_matrix(y_test, y_pred)\n",
        "print(cm)\n",
        "accuracy_score(y_test, y_pred)"
      ]
    },
    {
      "cell_type": "code",
      "source": [
        "dataset = dataset[dataset.Dependency != 0]\n"
      ],
      "metadata": {
        "id": "vxWpm26A_f24"
      },
      "execution_count": null,
      "outputs": []
    },
    {
      "cell_type": "markdown",
      "metadata": {
        "id": "dG-Y6xoHToUo"
      },
      "source": [
        "## **Ensemble Modelling**"
      ]
    },
    {
      "cell_type": "code",
      "execution_count": null,
      "metadata": {
        "id": "00r8ytNiTuP-"
      },
      "outputs": [],
      "source": [
        "X = dataset.iloc[:,[1,2,3,4,5]]\n",
        "y = dataset.iloc[:,[6]]\n",
        "\n",
        "X_train, X_test, y_train, y_test = train_test_split(X, y, \n",
        "                        test_size = 0.2, random_state = 0)\n",
        "\n",
        "sc = StandardScaler()\n",
        "X_train = sc.fit_transform(X_train)\n",
        "X_test = sc.transform(X_test)\n"
      ]
    },
    {
      "cell_type": "markdown",
      "source": [
        "**Adaboost + Lasso Regression**"
      ],
      "metadata": {
        "id": "C7dwFuGYkFVy"
      }
    },
    {
      "cell_type": "code",
      "source": [
        "modelL = AdaBoostRegressor(\n",
        "    Lasso()\n",
        ")\n",
        "\n",
        "modelL.fit(X_train, y_train)\n",
        "\n",
        "# Predict\n",
        "y_pred = modelL.predict(X_test)\n",
        "\n",
        "print(\"MAE\",mean_absolute_error(y_test,y_pred))\n",
        "print(\"RMSE\",np.sqrt(mean_squared_error(y_test,y_pred)))\n",
        "r2 = r2_score(y_test,y_pred)\n",
        "print(\"R-squared\",r2)"
      ],
      "metadata": {
        "colab": {
          "base_uri": "https://localhost:8080/"
        },
        "id": "uIpzwjj2Si8i",
        "outputId": "956a266d-5201-4dc2-d20d-f9b09553f85e"
      },
      "execution_count": null,
      "outputs": [
        {
          "output_type": "stream",
          "name": "stdout",
          "text": [
            "MAE 5.6050227457714135\n",
            "RMSE 6.565521135637973\n",
            "R-squared -0.05560178950778738\n"
          ]
        }
      ]
    },
    {
      "cell_type": "markdown",
      "source": [
        " **Adaboost + Linear  Regression**"
      ],
      "metadata": {
        "id": "UjWpXlf4j34g"
      }
    },
    {
      "cell_type": "code",
      "source": [
        "modelLR = AdaBoostRegressor(\n",
        "    LinearRegression()\n",
        ")\n",
        "\n",
        "modelLR.fit(X_train, y_train)\n",
        "\n",
        "# Predict\n",
        "y_pred = modelLR.predict(X_test)\n",
        "\n",
        "print(\"MAE\",mean_absolute_error(y_test,y_pred))\n",
        "print(\"RMSE\",np.sqrt(mean_squared_error(y_test,y_pred)))\n",
        "r2 = r2_score(y_test,y_pred)\n",
        "print(\"R-squared\",r2)"
      ],
      "metadata": {
        "colab": {
          "base_uri": "https://localhost:8080/"
        },
        "id": "yc7xBllwTFWp",
        "outputId": "3178a0c4-ba5b-4d6a-c1c0-553b9084418c"
      },
      "execution_count": null,
      "outputs": [
        {
          "output_type": "stream",
          "name": "stdout",
          "text": [
            "MAE 5.841472026216289\n",
            "RMSE 7.065799392719229\n",
            "R-squared -0.2225997888974216\n"
          ]
        }
      ]
    },
    {
      "cell_type": "markdown",
      "source": [
        "**Adaboost + Decision Tree**"
      ],
      "metadata": {
        "id": "lCvsMxKJjoYN"
      }
    },
    {
      "cell_type": "code",
      "execution_count": null,
      "metadata": {
        "colab": {
          "base_uri": "https://localhost:8080/"
        },
        "id": "zYM1f7FlUEYt",
        "outputId": "ff4761d1-0aa6-499e-aad6-9a3a14f2ace8"
      },
      "outputs": [
        {
          "output_type": "stream",
          "name": "stdout",
          "text": [
            "MAE 4.816037106542221\n",
            "RMSE 6.260777431595788\n",
            "R-squared 0.040117132146052725\n"
          ]
        }
      ],
      "source": [
        "modelAD = AdaBoostRegressor(\n",
        "    DecisionTreeRegressor(max_depth=4)\n",
        ")\n",
        "\n",
        "modelAD.fit(X_train, y_train)\n",
        "\n",
        "# Predict\n",
        "y_pred = modelAD.predict(X_test)\n",
        "\n",
        "print(\"MAE\",mean_absolute_error(y_test,y_pred))\n",
        "print(\"RMSE\",np.sqrt(mean_squared_error(y_test,y_pred)))\n",
        "r2 = r2_score(y_test,y_pred)\n",
        "print(\"R-squared\",r2)"
      ]
    },
    {
      "cell_type": "markdown",
      "source": [
        "**Adaboost + Support Vector Regressor**"
      ],
      "metadata": {
        "id": "zP0py1BBkNBu"
      }
    },
    {
      "cell_type": "code",
      "execution_count": null,
      "metadata": {
        "colab": {
          "base_uri": "https://localhost:8080/"
        },
        "id": "kza69zUEayTS",
        "outputId": "4d0f5adb-4cdb-4c58-d5c3-fcdc957c71ff"
      },
      "outputs": [
        {
          "output_type": "stream",
          "name": "stdout",
          "text": [
            "MAE 5.2689286167341285\n",
            "RMSE 6.665293287880669\n",
            "R-squared -0.087928210838075\n"
          ]
        }
      ],
      "source": [
        "modelSVR = AdaBoostRegressor(\n",
        "    SVR()\n",
        ")\n",
        "\n",
        "modelSVR.fit(X_train, y_train)\n",
        "\n",
        "# Predict\n",
        "y_pred = modelSVR.predict(X_test)\n",
        "\n",
        "print(\"MAE\",mean_absolute_error(y_test,y_pred))\n",
        "print(\"RMSE\",np.sqrt(mean_squared_error(y_test,y_pred)))\n",
        "r2 = r2_score(y_test,y_pred)\n",
        "print(\"R-squared\",r2)"
      ]
    },
    {
      "cell_type": "markdown",
      "source": [
        "## **Voting Regressor**"
      ],
      "metadata": {
        "id": "du7himyekznr"
      }
    },
    {
      "cell_type": "code",
      "source": [
        "ensemble = VotingRegressor([('LR', modelLR), ('svr', modelSVR)])\n",
        "ensemble.fit(X_train, y_train)\n",
        "\n",
        "y_pred = ensemble.predict(X_test)\n",
        "\n",
        "mae=mean_absolute_error(y_test,y_pred)\n",
        "print(\"MAE\",mean_absolute_error(y_test,y_pred))\n",
        "print(\"RMSE\",np.sqrt(mean_squared_error(y_test,y_pred)))\n",
        "r2 = r2_score(y_test,y_pred)\n",
        "print(\"R-squared\",r2)"
      ],
      "metadata": {
        "colab": {
          "base_uri": "https://localhost:8080/"
        },
        "id": "f99rU9EBputS",
        "outputId": "ea970223-6590-49f4-b64a-e9046a1b9644"
      },
      "execution_count": null,
      "outputs": [
        {
          "output_type": "stream",
          "name": "stdout",
          "text": [
            "MAE 5.510640341055343\n",
            "RMSE 6.650186588071313\n",
            "R-squared -0.08300228201604165\n"
          ]
        }
      ]
    },
    {
      "cell_type": "code",
      "execution_count": null,
      "metadata": {
        "colab": {
          "base_uri": "https://localhost:8080/"
        },
        "id": "w2Mk7coccPjH",
        "outputId": "2a110632-5614-420c-c808-742ddcb3e685"
      },
      "outputs": [
        {
          "output_type": "stream",
          "name": "stdout",
          "text": [
            "MAE 4.847670278302078\n",
            "RMSE 6.182065790057321\n",
            "R-squared 0.06410106000167426\n"
          ]
        }
      ],
      "source": [
        "ensemble = VotingRegressor([('dt', modelAD), ('svr', modelSVR)])\n",
        "ensemble.fit(X_train, y_train)\n",
        "\n",
        "y_pred = ensemble.predict(X_test)\n",
        "\n",
        "mae=mean_absolute_error(y_test,y_pred)\n",
        "print(\"MAE\",mean_absolute_error(y_test,y_pred))\n",
        "print(\"RMSE\",np.sqrt(mean_squared_error(y_test,y_pred)))\n",
        "r2 = r2_score(y_test,y_pred)\n",
        "print(\"R-squared\",r2)\n",
        "\n"
      ]
    },
    {
      "cell_type": "code",
      "execution_count": null,
      "metadata": {
        "colab": {
          "base_uri": "https://localhost:8080/"
        },
        "id": "nTfMeiUQe_3Y",
        "outputId": "6b6e9448-e97d-4a8a-defc-e5b497d3c0d5"
      },
      "outputs": [
        {
          "output_type": "stream",
          "name": "stdout",
          "text": [
            "R-squared:  0.1747042730103944\n"
          ]
        }
      ],
      "source": [
        "# scores = cross_val_score(ensemble, X_train, y_train, scoring='neg_mean_absolute_error', cv=4)\n",
        "# mae = absolute(scores)\n",
        "# print(\"MAE: \", np.mean(mae))\n",
        "# scores = cross_val_score(ensemble, X_train, y_train, scoring='neg_root_mean_squared_error', cv=25)\n",
        "# rmse = absolute(scores)\n",
        "# print(\"RMSE: \", np.mean(rmse))\n",
        "scores = cross_val_score(ensemble, X_train, y_train, scoring='r2', cv=4)\n",
        "print(\"R-squared: \",scores.mean())"
      ]
    },
    {
      "cell_type": "markdown",
      "source": [
        "**Male <14YRS**"
      ],
      "metadata": {
        "id": "cTTaDq_2T5rD"
      }
    },
    {
      "cell_type": "code",
      "source": [
        "X = dataset.iloc[:,[1,2,3,4,5]]\n",
        "y = dataset.iloc[:,[6]]\n",
        "\n",
        "X_train, X_test, y_train, y_test = train_test_split(X, y, \n",
        "                        test_size = 0.2, random_state = 0)\n",
        "\n",
        "sc = StandardScaler()\n",
        "X_train = sc.fit_transform(X_train)\n",
        "X_test = sc.transform(X_test)\n",
        "\n",
        "#Adaboost + Decision Tree\n",
        "modelAD = AdaBoostRegressor(\n",
        "    DecisionTreeRegressor(max_depth=4)\n",
        ")\n",
        "modelAD.fit(X_train, y_train)\n",
        "\n",
        "#Adaboost + Support Vector Regressor\n",
        "modelSVR = AdaBoostRegressor(\n",
        "    SVR()\n",
        ")\n",
        "modelSVR.fit(X_train, y_train)\n",
        "\n",
        "#Ensemble Voting Regressor Model\n",
        "\n",
        "ensemble = VotingRegressor([('dt', modelAD), ('svr', modelSVR)])\n",
        "ensemble.fit(X_train, y_train)\n",
        "\n",
        "y_pred = ensemble.predict(X_test)\n",
        "\n",
        "print(\"\\n Evalutions Metrics\")\n",
        "mae=mean_absolute_error(y_test,y_pred)\n",
        "print(\"MAE\",mean_absolute_error(y_test,y_pred))\n",
        "print(\"RMSE\",np.sqrt(mean_squared_error(y_test,y_pred)))\n",
        "r2 = r2_score(y_test,y_pred)\n",
        "print(\"R-squared\",r2)\n",
        "\n",
        "print(\"\\n Hyperparameter Optimization\")\n",
        "scores = cross_val_score(ensemble, X_train, y_train, scoring='neg_mean_absolute_error', cv=8)\n",
        "mae = absolute(scores)\n",
        "print(\"MAE: \", np.mean(mae))\n",
        "scores = cross_val_score(ensemble, X_train, y_train, scoring='neg_root_mean_squared_error', cv=35)\n",
        "rmse = absolute(scores)\n",
        "print(\"RMSE: \", np.mean(rmse))\n",
        "scores = cross_val_score(ensemble, X_train, y_train, scoring='r2', cv=3)\n",
        "print(\"R-squared: \",scores.mean())\n"
      ],
      "metadata": {
        "colab": {
          "base_uri": "https://localhost:8080/"
        },
        "id": "E5h5H8XRT2qH",
        "outputId": "ff27eee0-72f9-477e-a85c-22c8fbfb8c95"
      },
      "execution_count": null,
      "outputs": [
        {
          "output_type": "stream",
          "name": "stdout",
          "text": [
            "\n",
            " Evalutions Metrics\n",
            "MAE 4.524338380051216\n",
            "RMSE 6.121889270274893\n",
            "R-squared 0.08223255079894798\n",
            "\n",
            " Hyperparameter Optimization\n",
            "MAE:  4.488601482468949\n",
            "RMSE:  5.300687009982715\n",
            "R-squared:  0.2074015980556783\n"
          ]
        }
      ]
    },
    {
      "cell_type": "code",
      "source": [
        "plt.figure(figsize=(2,1))\n",
        "x = y_test.values.flatten()\n",
        "sns.scatterplot(x,y_pred,color=\"red\")\n",
        "sns.lineplot(x,x)\n",
        "plt.grid(None)\n",
        "plt.title(\"<14YRS-MALE\")\n"
      ],
      "metadata": {
        "colab": {
          "base_uri": "https://localhost:8080/",
          "height": 136
        },
        "id": "UEJl3oQcj_nY",
        "outputId": "a15e0a76-5491-4488-e2e0-786f445029a7"
      },
      "execution_count": null,
      "outputs": [
        {
          "output_type": "execute_result",
          "data": {
            "text/plain": [
              "Text(0.5, 1.0, '<14YRS-MALE')"
            ]
          },
          "metadata": {},
          "execution_count": 171
        },
        {
          "output_type": "display_data",
          "data": {
            "image/png": "[encoded data removed]",
            "text/plain": [
              "<Figure size 144x72 with 1 Axes>"
            ]
          },
          "metadata": {}
        }
      ]
    },
    {
      "cell_type": "code",
      "source": [
        "plt.figure(figsize=(2,1))\n",
        "sns.residplot(x=y_test, y=y_pred)"
      ],
      "metadata": {
        "colab": {
          "base_uri": "https://localhost:8080/",
          "height": 134
        },
        "id": "FmpqRl525jLo",
        "outputId": "82ff0e02-d164-4cc5-fb83-4ef29b604f14"
      },
      "execution_count": null,
      "outputs": [
        {
          "output_type": "execute_result",
          "data": {
            "text/plain": [
              "<matplotlib.axes._subplots.AxesSubplot at 0x7f7907590cd0>"
            ]
          },
          "metadata": {},
          "execution_count": 172
        },
        {
          "output_type": "display_data",
          "data": {
            "image/png": "[encoded data removed]",
            "text/plain": [
              "<Figure size 144x72 with 1 Axes>"
            ]
          },
          "metadata": {}
        }
      ]
    },
    {
      "cell_type": "code",
      "source": [
        "data={\n",
        "    'MMAX':[30.6,31.1,32.6,33.3,33.6,32.3,30.1,29.6,30.4,33.2,33.3,31.7, 29.4, 30.2, 32, 32.8, 32.4, 29.5, 27.3, 27.2, 28.2, 31, 31.8,30.5],\n",
        "    'MMIN':[17.1,11,21,23.9,26.2,20,25,24.6,24.3,23.6,21.3,18.8,18.8,19.6,21.7,24,26.2,25.9,24.9,24.5,24.4,24,22.4,20.1],\n",
        "    'TMRF':[1,1,0,1,12,551,959,623,346,79,10,3,0,1,0,0,27,487,661,459,300,66,6,5],\n",
        "    'RH':[66,64,64,66,67,50,85,85,82,71,68,66,58,59,60,68,72,83,89,89,89,74,60,57],\n",
        "    'MWS':[6.5,6.5,7.6,7.6,9.4,11.5,12.2,11.5,4,6.1,5.8,6.1,6,7,7,8,10,12,14,12,7,6,6,6]\n",
        "}\n",
        "df = pd.DataFrame(data)\n",
        "df\n",
        "df = sc.transform(df)\n",
        "y_pred = ensemble.predict(df)\n",
        "y_pred"
      ],
      "metadata": {
        "colab": {
          "base_uri": "https://localhost:8080/"
        },
        "id": "g4KBSVzGYXh-",
        "outputId": "4c1b7f54-5fb9-43e9-ea45-a63b2920ec78"
      },
      "execution_count": null,
      "outputs": [
        {
          "output_type": "execute_result",
          "data": {
            "text/plain": [
              "array([6.73484252, 7.05559045, 7.38949052, 8.93156811, 8.69459651,\n",
              "       5.6733949 , 7.4858949 , 8.75862217, 9.90256157, 9.13363952,\n",
              "       9.38197237, 8.17970842, 4.28505378, 6.08762464, 6.71976334,\n",
              "       6.71235911, 8.53681329, 8.17637109, 7.8608949 , 8.67820259,\n",
              "       9.9858949 , 7.58113828, 8.87994759, 6.54365261])"
            ]
          },
          "metadata": {},
          "execution_count": 173
        }
      ]
    },
    {
      "cell_type": "code",
      "source": [
        "y_pred.sum()"
      ],
      "metadata": {
        "colab": {
          "base_uri": "https://localhost:8080/"
        },
        "id": "pkzWJiBT9rPi",
        "outputId": "e565cee4-9870-4a00-e4a8-b89740aea44f"
      },
      "execution_count": null,
      "outputs": [
        {
          "output_type": "execute_result",
          "data": {
            "text/plain": [
              "187.36959810535168"
            ]
          },
          "metadata": {},
          "execution_count": 174
        }
      ]
    },
    {
      "cell_type": "markdown",
      "source": [
        "**Male 15-24YRS**"
      ],
      "metadata": {
        "id": "5P4-FfwnUC4C"
      }
    },
    {
      "cell_type": "code",
      "source": [
        "X = dataset.iloc[:,[1,2,3,4,5]]\n",
        "z = dataset.iloc[:,[7]]\n",
        "\n",
        "X_train, X_test, z_train, z_test = train_test_split(X, z, \n",
        "                        test_size = 0.2, random_state = 0)\n",
        "\n",
        "sc = StandardScaler()\n",
        "X_train = sc.fit_transform(X_train)\n",
        "X_test = sc.transform(X_test)\n",
        "\n",
        "#Adaboost + Decision Tree\n",
        "modelAD = AdaBoostRegressor(\n",
        "    DecisionTreeRegressor(max_depth=4)\n",
        ")\n",
        "modelAD.fit(X_train, z_train)\n",
        "\n",
        "#Adaboost + Support Vector Regressor\n",
        "modelSVR = AdaBoostRegressor(\n",
        "    SVR()\n",
        ")\n",
        "modelSVR.fit(X_train, z_train)\n",
        "\n",
        "#Ensemble Voting Regressor Model\n",
        "ensemble = VotingRegressor([('dt', modelAD), ('svr', modelSVR)])\n",
        "ensemble.fit(X_train, z_train)\n",
        "z_pred = ensemble.predict(X_test)\n",
        "\n",
        "print(\"\\n Evalutions Metrics\")\n",
        "mae=mean_absolute_error(z_test,z_pred)\n",
        "print(\"MAE\",mean_absolute_error(z_test,z_pred))\n",
        "print(\"RMSE\",np.sqrt(mean_squared_error(z_test,z_pred)))\n",
        "r2 = r2_score(z_test,z_pred)\n",
        "print(\"R-squared\",r2)\n",
        "\n",
        "print(\"\\n Hyperparameter Optimization\")\n",
        "scores = cross_val_score(ensemble, X_train, z_train, scoring='neg_mean_absolute_error', cv=4)\n",
        "mae = absolute(scores)\n",
        "print(\"MAE: \", np.mean(mae))\n",
        "scores = cross_val_score(ensemble, X_train, z_train, scoring='neg_root_mean_squared_error', cv=75)\n",
        "rmse = absolute(scores)\n",
        "print(\"RMSE: \", np.mean(rmse))\n",
        "scores = cross_val_score(ensemble, X_train, z_train, scoring='r2', cv=3)\n",
        "print(\"R-squared: \",scores.mean())\n",
        "\n",
        "\n"
      ],
      "metadata": {
        "colab": {
          "base_uri": "https://localhost:8080/"
        },
        "id": "708OgY9qPCmI",
        "outputId": "e2514148-667c-4d0a-a6bd-ba1963bb89d5"
      },
      "execution_count": null,
      "outputs": [
        {
          "output_type": "stream",
          "name": "stdout",
          "text": [
            "\n",
            " Evalutions Metrics\n",
            "MAE 11.001328487157874\n",
            "RMSE 13.513270387130376\n",
            "R-squared -0.015515370442396481\n",
            "\n",
            " Hyperparameter Optimization\n",
            "MAE:  12.692892510520274\n",
            "RMSE:  13.030123257415465\n",
            "R-squared:  0.06582524142262973\n"
          ]
        }
      ]
    },
    {
      "cell_type": "code",
      "source": [
        "plt.figure(figsize=(2,1))\n",
        "x = z_test.values.flatten()\n",
        "sns.scatterplot(x,z_pred,color=\"black\")\n",
        "sns.lineplot(x,x)\n",
        "plt.title(\"15-24YRS-MALE\")"
      ],
      "metadata": {
        "colab": {
          "base_uri": "https://localhost:8080/",
          "height": 136
        },
        "id": "f0x_wVBWBvMF",
        "outputId": "e03289bd-a839-49e2-c481-f16e22db4a64"
      },
      "execution_count": null,
      "outputs": [
        {
          "output_type": "execute_result",
          "data": {
            "text/plain": [
              "Text(0.5, 1.0, '15-24YRS-MALE')"
            ]
          },
          "metadata": {},
          "execution_count": 176
        },
        {
          "output_type": "display_data",
          "data": {
            "image/png": "[encoded data removed]",
            "text/plain": [
              "<Figure size 144x72 with 1 Axes>"
            ]
          },
          "metadata": {}
        }
      ]
    },
    {
      "cell_type": "code",
      "source": [
        "plt.figure(figsize=(2,1))\n",
        "sns.residplot(x=z_test, y=z_pred,color=\"black\")"
      ],
      "metadata": {
        "colab": {
          "base_uri": "https://localhost:8080/",
          "height": 134
        },
        "id": "CxQx6FNvAFa7",
        "outputId": "d9fd84b4-a061-4309-e2bb-f1f1d3fa2d07"
      },
      "execution_count": null,
      "outputs": [
        {
          "output_type": "execute_result",
          "data": {
            "text/plain": [
              "<matplotlib.axes._subplots.AxesSubplot at 0x7f79070f3450>"
            ]
          },
          "metadata": {},
          "execution_count": 177
        },
        {
          "output_type": "display_data",
          "data": {
            "image/png": "[encoded data removed]",
            "text/plain": [
              "<Figure size 144x72 with 1 Axes>"
            ]
          },
          "metadata": {}
        }
      ]
    },
    {
      "cell_type": "code",
      "source": [
        "data={\n",
        "    'MMAX':[30.6,31.1,32.6,33.3,33.6,32.3,30.1,29.6,30.4,33.2,33.3,31.7, 29.4, 30.2, 32, 32.8, 32.4, 29.5, 27.3, 27.2, 28.2, 31, 31.8,30.5],\n",
        "    'MMIN':[17.1,11,21,23.9,26.2,20,25,24.6,24.3,23.6,21.3,18.8,18.8,19.6,21.7,24,26.2,25.9,24.9,24.5,24.4,24,22.4,20.1],\n",
        "    'TMRF':[1,1,0,1,12,551,959,623,346,79,10,3,0,1,0,0,27,487,661,459,300,66,6,5],\n",
        "    'RH':[66,64,64,66,67,50,85,85,82,71,68,66,58,59,60,68,72,83,89,89,89,74,60,57],\n",
        "    'MWS':[6.5,6.5,7.6,7.6,9.4,11.5,12.2,11.5,4,6.1,5.8,6.1,6,7,7,8,10,12,14,12,7,6,6,6]\n",
        "}\n",
        "df = pd.DataFrame(data)\n",
        "df\n",
        "df = sc.transform(df)\n",
        "z_pred = ensemble.predict(df)\n",
        "z_pred"
      ],
      "metadata": {
        "colab": {
          "base_uri": "https://localhost:8080/"
        },
        "id": "g-oraNmJO05w",
        "outputId": "b60ec07f-0193-4381-e479-efa8c0215ca1"
      },
      "execution_count": null,
      "outputs": [
        {
          "output_type": "execute_result",
          "data": {
            "text/plain": [
              "array([ 8.62008997, 10.07256162, 10.49075891, 12.32714419, 29.00628513,\n",
              "       12.95177525, 14.70177525, 14.70177525, 13.50177525, 14.64340552,\n",
              "       10.7833587 , 10.65558486,  6.91094907,  8.2823708 ,  7.70664512,\n",
              "       11.08747145, 18.20825082, 15.25733081, 16.2472298 , 16.47955303,\n",
              "       15.45177526, 15.1104347 , 10.74525174, 10.73024195])"
            ]
          },
          "metadata": {},
          "execution_count": 178
        }
      ]
    },
    {
      "cell_type": "code",
      "source": [
        "z_pred.sum()"
      ],
      "metadata": {
        "colab": {
          "base_uri": "https://localhost:8080/"
        },
        "id": "ih6jTdDv93zS",
        "outputId": "e2e861de-2638-4694-a818-1a13e7f15899"
      },
      "execution_count": null,
      "outputs": [
        {
          "output_type": "execute_result",
          "data": {
            "text/plain": [
              "314.67379443149593"
            ]
          },
          "metadata": {},
          "execution_count": 179
        }
      ]
    },
    {
      "cell_type": "markdown",
      "source": [
        "**Male 25-60YRS**"
      ],
      "metadata": {
        "id": "98B5QfzsUQs3"
      }
    },
    {
      "cell_type": "code",
      "source": [
        "X = dataset.iloc[:,[1,2,3,4,5]]\n",
        "a = dataset.iloc[:,[8]]\n",
        "\n",
        "X_train, X_test, a_train, a_test = train_test_split(X, a, \n",
        "                        test_size = 0.2, random_state = 0)\n",
        "\n",
        "sc = StandardScaler()\n",
        "X_train = sc.fit_transform(X_train)\n",
        "X_test = sc.transform(X_test)\n",
        "\n",
        "#Adaboost + Decision Tree\n",
        "modelAD = AdaBoostRegressor(\n",
        "    DecisionTreeRegressor(max_depth=4)\n",
        ")\n",
        "modelAD.fit(X_train, a_train)\n",
        "\n",
        "#Adaboost + Support Vector Regressor\n",
        "modelSVR = AdaBoostRegressor(\n",
        "    SVR()\n",
        ")\n",
        "modelSVR.fit(X_train, a_train)\n",
        "\n",
        "#Ensemble Voting Regressor Model\n",
        "ensemble = VotingRegressor([('dt', modelAD), ('svr', modelSVR)])\n",
        "ensemble.fit(X_train, a_train)\n",
        "a_pred = ensemble.predict(X_test)\n",
        "\n",
        "print(\"\\n Evalutions Metrics\")\n",
        "mae=mean_absolute_error(a_test,a_pred)\n",
        "print(\"MAE\",mean_absolute_error(a_test,a_pred))\n",
        "print(\"RMSE\",np.sqrt(mean_squared_error(a_test,a_pred)))\n",
        "r2 = r2_score(a_test,a_pred)\n",
        "print(\"R-squared\",r2)\n",
        "\n",
        "print(\"\\n Hyperparameter Optimization\")\n",
        "scores = cross_val_score(ensemble, X_train, a_train, scoring='neg_mean_absolute_error', cv=10)\n",
        "mae = absolute(scores)\n",
        "print(\"MAE: \", np.mean(mae))\n",
        "scores = cross_val_score(ensemble, X_train, a_train, scoring='neg_root_mean_squared_error', cv=45)\n",
        "rmse = absolute(scores)\n",
        "print(\"RMSE: \", np.mean(rmse))\n",
        "scores = cross_val_score(ensemble, X_train, a_train, scoring='r2', cv=10)\n",
        "print(\"R-squared: \",scores.mean())\n",
        "\n",
        "\n"
      ],
      "metadata": {
        "colab": {
          "base_uri": "https://localhost:8080/"
        },
        "id": "-OhGXTuqUc2c",
        "outputId": "156291a1-69cf-40d7-cf62-aa7aecd55dc2"
      },
      "execution_count": null,
      "outputs": [
        {
          "output_type": "stream",
          "name": "stdout",
          "text": [
            "\n",
            " Evalutions Metrics\n",
            "MAE 8.735700863739137\n",
            "RMSE 10.344416835365355\n",
            "R-squared 0.16740187000433904\n",
            "\n",
            " Hyperparameter Optimization\n",
            "MAE:  8.704130826296185\n",
            "RMSE:  9.736587200010234\n",
            "R-squared:  0.07280978543219357\n"
          ]
        }
      ]
    },
    {
      "cell_type": "code",
      "source": [
        "plt.figure(figsize=(2,1))\n",
        "x = a_test.values.flatten()\n",
        "sns.scatterplot(x,a_pred,color=\"green\")\n",
        "sns.lineplot(x,x)\n",
        "plt.title(\"25-60YRS-MALE\")"
      ],
      "metadata": {
        "colab": {
          "base_uri": "https://localhost:8080/",
          "height": 136
        },
        "id": "vnWA2NJHCXog",
        "outputId": "26a008f8-3117-4d5e-f291-8f4080e52e15"
      },
      "execution_count": null,
      "outputs": [
        {
          "output_type": "execute_result",
          "data": {
            "text/plain": [
              "Text(0.5, 1.0, '25-60YRS-MALE')"
            ]
          },
          "metadata": {},
          "execution_count": 181
        },
        {
          "output_type": "display_data",
          "data": {
            "image/png": "[encoded data removed]",
            "text/plain": [
              "<Figure size 144x72 with 1 Axes>"
            ]
          },
          "metadata": {}
        }
      ]
    },
    {
      "cell_type": "code",
      "source": [
        "plt.figure(figsize=(2,1))\n",
        "sns.residplot(x=a_test, y=a_pred,color=\"green\")"
      ],
      "metadata": {
        "colab": {
          "base_uri": "https://localhost:8080/",
          "height": 136
        },
        "id": "b_2EKwQcARcw",
        "outputId": "588adcf1-d93c-4a77-9877-efee7d6b6b06"
      },
      "execution_count": null,
      "outputs": [
        {
          "output_type": "execute_result",
          "data": {
            "text/plain": [
              "<matplotlib.axes._subplots.AxesSubplot at 0x7f79073cfc10>"
            ]
          },
          "metadata": {},
          "execution_count": 182
        },
        {
          "output_type": "display_data",
          "data": {
            "image/png": "[encoded data removed]",
            "text/plain": [
              "<Figure size 144x72 with 1 Axes>"
            ]
          },
          "metadata": {}
        }
      ]
    },
    {
      "cell_type": "code",
      "source": [
        "data={\n",
        "    'MMAX':[30.6,31.1,32.6,33.3,33.6,32.3,30.1,29.6,30.4,33.2,33.3,31.7, 29.4, 30.2, 32, 32.8, 32.4, 29.5, 27.3, 27.2, 28.2, 31, 31.8,30.5],\n",
        "    'MMIN':[17.1,11,21,23.9,26.2,20,25,24.6,24.3,23.6,21.3,18.8,18.8,19.6,21.7,24,26.2,25.9,24.9,24.5,24.4,24,22.4,20.1],\n",
        "    'TMRF':[1,1,0,1,12,551,959,623,346,79,10,3,0,1,0,0,27,487,661,459,300,66,6,5],\n",
        "    'RH':[66,64,64,66,67,50,85,85,82,71,68,66,58,59,60,68,72,83,89,89,89,74,60,57],\n",
        "    'MWS':[6.5,6.5,7.6,7.6,9.4,11.5,12.2,11.5,4,6.1,5.8,6.1,6,7,7,8,10,12,14,12,7,6,6,6]\n",
        "}\n",
        "df = pd.DataFrame(data)\n",
        "df\n",
        "df = sc.transform(df)\n",
        "a_pred = ensemble.predict(df)\n",
        "a_pred"
      ],
      "metadata": {
        "colab": {
          "base_uri": "https://localhost:8080/"
        },
        "id": "XxNomtHWPCYA",
        "outputId": "70d10c61-792c-4c71-8d0e-70d42849ed74"
      },
      "execution_count": null,
      "outputs": [
        {
          "output_type": "execute_result",
          "data": {
            "text/plain": [
              "array([14.02812751, 14.54263271, 13.87882138, 15.78221383, 20.68005116,\n",
              "       16.50499409, 18.27772136, 18.75499409, 18.60499409, 17.49013899,\n",
              "       19.84128965, 17.1372852 , 11.1090201 , 14.25144438, 14.72917304,\n",
              "       14.43802997, 16.82164869, 18.27772136, 18.27772136, 19.38960947,\n",
              "       20.25499409, 18.05341775, 18.43860586, 15.02690452])"
            ]
          },
          "metadata": {},
          "execution_count": 183
        }
      ]
    },
    {
      "cell_type": "code",
      "source": [
        "a_pred.sum()"
      ],
      "metadata": {
        "colab": {
          "base_uri": "https://localhost:8080/"
        },
        "id": "Kk4Wbi69-Gbf",
        "outputId": "2006b8a4-2a54-442f-d37e-3b3d9633fc6d"
      },
      "execution_count": null,
      "outputs": [
        {
          "output_type": "execute_result",
          "data": {
            "text/plain": [
              "404.5915546334921"
            ]
          },
          "metadata": {},
          "execution_count": 184
        }
      ]
    },
    {
      "cell_type": "markdown",
      "source": [
        "**Male >60YRS**"
      ],
      "metadata": {
        "id": "zskuALEjUTH1"
      }
    },
    {
      "cell_type": "code",
      "source": [
        "X = dataset.iloc[:,[1,2,3,4,5]]\n",
        "b = dataset.iloc[:,[9]]\n",
        "\n",
        "X_train, X_test, b_train, b_test = train_test_split(X, b, \n",
        "                        test_size = 0.2, random_state = 0)\n",
        "\n",
        "sc = StandardScaler()\n",
        "X_train = sc.fit_transform(X_train)\n",
        "X_test = sc.transform(X_test)\n",
        "\n",
        "#Adaboost + Decision Tree\n",
        "modelAD = AdaBoostRegressor(\n",
        "    DecisionTreeRegressor(max_depth=4)\n",
        ")\n",
        "modelAD.fit(X_train, b_train)\n",
        "\n",
        "#Adaboost + Support Vector Regressor\n",
        "modelSVR = AdaBoostRegressor(\n",
        "    SVR()\n",
        ")\n",
        "modelSVR.fit(X_train, b_train)\n",
        "\n",
        "#Ensemble Voting Regressor Model\n",
        "ensemble = VotingRegressor([('dt', modelAD), ('svr', modelSVR)])\n",
        "ensemble.fit(X_train, b_train)\n",
        "b_pred = ensemble.predict(X_test)\n",
        "\n",
        "print(\"\\n Evalutions Metrics\")\n",
        "mae=mean_absolute_error(b_test,b_pred)\n",
        "print(\"MAE\",mean_absolute_error(b_test,b_pred))\n",
        "print(\"RMSE\",np.sqrt(mean_squared_error(b_test,b_pred)))\n",
        "r2 = r2_score(b_test,b_pred)\n",
        "print(\"R-squared\",r2)\n",
        "\n",
        "print(\"\\n Hyperparameter Optimization\")\n",
        "scores = cross_val_score(ensemble, X_train, b_train, scoring='neg_mean_absolute_error', cv=20)\n",
        "mae = absolute(scores)\n",
        "print(\"MAE: \", np.mean(mae))\n",
        "scores = cross_val_score(ensemble, X_train, b_train, scoring='neg_root_mean_squared_error', cv=16)\n",
        "rmse = absolute(scores)\n",
        "print(\"RMSE: \", np.mean(rmse))\n",
        "scores = cross_val_score(ensemble, X_train, b_train, scoring='r2', cv=5)\n",
        "print(\"R-squared: \",scores.mean())\n",
        "\n",
        "\n"
      ],
      "metadata": {
        "colab": {
          "base_uri": "https://localhost:8080/"
        },
        "id": "_rqNXGmoVm76",
        "outputId": "2e69cb12-9d6b-4f59-c7e5-9f3dc9ad0aa9"
      },
      "execution_count": null,
      "outputs": [
        {
          "output_type": "stream",
          "name": "stdout",
          "text": [
            "\n",
            " Evalutions Metrics\n",
            "MAE 0.8653670494674262\n",
            "RMSE 1.1084986629328537\n",
            "R-squared 0.164500061506483\n",
            "\n",
            " Hyperparameter Optimization\n",
            "MAE:  1.063356385190351\n",
            "RMSE:  1.2335508243018714\n",
            "R-squared:  -0.18625805894102382\n"
          ]
        }
      ]
    },
    {
      "cell_type": "code",
      "source": [
        "plt.figure(figsize=(2,1))\n",
        "x = b_test.values.flatten()\n",
        "sns.scatterplot(x,b_pred,color=\"maroon\")\n",
        "sns.lineplot(x,x)\n",
        "plt.title(\">60YRS-MALE\")"
      ],
      "metadata": {
        "colab": {
          "base_uri": "https://localhost:8080/",
          "height": 136
        },
        "id": "Yy0kZJIUCj9b",
        "outputId": "d2e4730f-f176-482b-9385-eaeb82f42d4f"
      },
      "execution_count": null,
      "outputs": [
        {
          "output_type": "execute_result",
          "data": {
            "text/plain": [
              "Text(0.5, 1.0, '>60YRS-MALE')"
            ]
          },
          "metadata": {},
          "execution_count": 186
        },
        {
          "output_type": "display_data",
          "data": {
            "image/png": "[encoded data removed]",
            "text/plain": [
              "<Figure size 144x72 with 1 Axes>"
            ]
          },
          "metadata": {}
        }
      ]
    },
    {
      "cell_type": "code",
      "source": [
        "plt.figure(figsize=(2,1))\n",
        "sns.residplot(x=b_test, y=b_pred,color=\"brown\")"
      ],
      "metadata": {
        "colab": {
          "base_uri": "https://localhost:8080/",
          "height": 134
        },
        "id": "PSCUZegdA5-1",
        "outputId": "c955f62c-e4b8-40a6-c614-a6379c6b486d"
      },
      "execution_count": null,
      "outputs": [
        {
          "output_type": "execute_result",
          "data": {
            "text/plain": [
              "<matplotlib.axes._subplots.AxesSubplot at 0x7f790754e390>"
            ]
          },
          "metadata": {},
          "execution_count": 187
        },
        {
          "output_type": "display_data",
          "data": {
            "image/png": "[encoded data removed]",
            "text/plain": [
              "<Figure size 144x72 with 1 Axes>"
            ]
          },
          "metadata": {}
        }
      ]
    },
    {
      "cell_type": "code",
      "source": [
        "data={\n",
        "    'MMAX':[30.6,31.1,32.6,33.3,33.6,32.3,30.1,29.6,30.4,33.2,33.3,31.7, 29.4, 30.2, 32, 32.8, 32.4, 29.5, 27.3, 27.2, 28.2, 31, 31.8,30.5],\n",
        "    'MMIN':[17.1,11,21,23.9,26.2,20,25,24.6,24.3,23.6,21.3,18.8,18.8,19.6,21.7,24,26.2,25.9,24.9,24.5,24.4,24,22.4,20.1],\n",
        "    'TMRF':[1,1,0,1,12,551,959,623,346,79,10,3,0,1,0,0,27,487,661,459,300,66,6,5],\n",
        "    'RH':[66,64,64,66,67,50,85,85,82,71,68,66,58,59,60,68,72,83,89,89,89,74,60,57],\n",
        "    'MWS':[6.5,6.5,7.6,7.6,9.4,11.5,12.2,11.5,4,6.1,5.8,6.1,6,7,7,8,10,12,14,12,7,6,6,6]\n",
        "}\n",
        "df = pd.DataFrame(data)\n",
        "df\n",
        "df = sc.transform(df)\n",
        "b_pred = ensemble.predict(df)\n",
        "b_pred"
      ],
      "metadata": {
        "colab": {
          "base_uri": "https://localhost:8080/"
        },
        "id": "JzgSyv6FPLup",
        "outputId": "7c8568d9-c056-4abc-ccb9-9dfe61d30439"
      },
      "execution_count": null,
      "outputs": [
        {
          "output_type": "execute_result",
          "data": {
            "text/plain": [
              "array([1.62641796, 2.14309911, 1.72262939, 1.85019787, 1.13273417,\n",
              "       1.06010844, 0.78233067, 0.7911026 , 1.09185448, 0.98398246,\n",
              "       1.47406179, 1.50050335, 1.07706672, 1.53180262, 2.96506606,\n",
              "       2.4831402 , 1.27843743, 0.83361272, 0.69899733, 0.99899733,\n",
              "       0.99899733, 1.8414351 , 2.87393481, 1.68748251])"
            ]
          },
          "metadata": {},
          "execution_count": 188
        }
      ]
    },
    {
      "cell_type": "code",
      "source": [
        "b_pred.sum()"
      ],
      "metadata": {
        "colab": {
          "base_uri": "https://localhost:8080/"
        },
        "id": "oWjETjvO-PZ9",
        "outputId": "9a9b9640-e665-4179-c250-020f1fcec773"
      },
      "execution_count": null,
      "outputs": [
        {
          "output_type": "execute_result",
          "data": {
            "text/plain": [
              "35.42799246207399"
            ]
          },
          "metadata": {},
          "execution_count": 189
        }
      ]
    },
    {
      "cell_type": "markdown",
      "source": [
        "**Female <14YRS**"
      ],
      "metadata": {
        "id": "MyBhMPNeWohN"
      }
    },
    {
      "cell_type": "code",
      "source": [
        "X = dataset.iloc[:,[1,2,3,4,5]]\n",
        "c = dataset.iloc[:,[10]]\n",
        "\n",
        "X_train, X_test, c_train, c_test = train_test_split(X, c, \n",
        "                        test_size = 0.2, random_state = 0)\n",
        "\n",
        "sc = StandardScaler()\n",
        "X_train = sc.fit_transform(X_train)\n",
        "X_test = sc.transform(X_test)\n",
        "\n",
        "#Adaboost + Decision Tree\n",
        "modelAD = AdaBoostRegressor(\n",
        "    DecisionTreeRegressor(max_depth=4)\n",
        ")\n",
        "modelAD.fit(X_train, c_train)\n",
        "\n",
        "#Adaboost + Support Vector Regressor\n",
        "modelSVR = AdaBoostRegressor(\n",
        "    SVR()\n",
        ")\n",
        "modelSVR.fit(X_train, c_train)\n",
        "\n",
        "#Ensemble Voting Regressor Model\n",
        "ensemble = VotingRegressor([('dt', modelAD), ('svr', modelSVR)])\n",
        "ensemble.fit(X_train, c_train)\n",
        "c_pred = ensemble.predict(X_test)\n",
        "\n",
        "print(\"\\n Evalutions Metrics\")\n",
        "mae=mean_absolute_error(c_test,c_pred)\n",
        "print(\"MAE\",mean_absolute_error(c_test,c_pred))\n",
        "print(\"RMSE\",np.sqrt(mean_squared_error(c_test,c_pred)))\n",
        "r2 = r2_score(c_test,c_pred)\n",
        "print(\"R-squared\",r2)\n",
        "\n",
        "print(\"\\n Hyperparameter Optimization\")\n",
        "scores = cross_val_score(ensemble, X_train, c_train, scoring='neg_mean_absolute_error', cv=5)\n",
        "mae = absolute(scores)\n",
        "print(\"MAE: \", np.mean(mae))\n",
        "scores = cross_val_score(ensemble, X_train, c_train, scoring='neg_root_mean_squared_error', cv=25)\n",
        "rmse = absolute(scores)\n",
        "print(\"RMSE: \", np.mean(rmse))\n",
        "scores = cross_val_score(ensemble, X_train, c_train, scoring='r2', cv=5)\n",
        "print(\"R-squared: \",scores.mean())\n",
        "\n",
        "\n"
      ],
      "metadata": {
        "colab": {
          "base_uri": "https://localhost:8080/"
        },
        "id": "v_4nDz-GWvGj",
        "outputId": "c407a3d2-6c12-40ad-8352-d57b8863427b"
      },
      "execution_count": null,
      "outputs": [
        {
          "output_type": "stream",
          "name": "stdout",
          "text": [
            "\n",
            " Evalutions Metrics\n",
            "MAE 3.0200441218568357\n",
            "RMSE 3.994395474278478\n",
            "R-squared -0.25711919323970056\n",
            "\n",
            " Hyperparameter Optimization\n",
            "MAE:  2.832007546869172\n",
            "RMSE:  3.015029961627495\n",
            "R-squared:  -0.03863983379978533\n"
          ]
        }
      ]
    },
    {
      "cell_type": "code",
      "source": [
        "plt.figure(figsize=(2,1))\n",
        "x = c_test.values.flatten()\n",
        "sns.scatterplot(x,c_pred,color=\"orange\")\n",
        "sns.lineplot(x,x)\n",
        "plt.title(\"<14YRS-FEMALE\")"
      ],
      "metadata": {
        "colab": {
          "base_uri": "https://localhost:8080/",
          "height": 136
        },
        "id": "REBWXwDMCy_-",
        "outputId": "7cda1952-2507-44ae-fd26-33cf3d548ab3"
      },
      "execution_count": null,
      "outputs": [
        {
          "output_type": "execute_result",
          "data": {
            "text/plain": [
              "Text(0.5, 1.0, '<14YRS-FEMALE')"
            ]
          },
          "metadata": {},
          "execution_count": 191
        },
        {
          "output_type": "display_data",
          "data": {
            "image/png": "[encoded data removed]",
            "text/plain": [
              "<Figure size 144x72 with 1 Axes>"
            ]
          },
          "metadata": {}
        }
      ]
    },
    {
      "cell_type": "code",
      "source": [
        "plt.figure(figsize=(2,1))\n",
        "sns.residplot(x=c_test, y=c_pred,color=\"orange\")"
      ],
      "metadata": {
        "colab": {
          "base_uri": "https://localhost:8080/",
          "height": 134
        },
        "id": "ofbGVqfnBB0b",
        "outputId": "4635d2aa-83ee-4ea1-bfa0-ae1d9945cf12"
      },
      "execution_count": null,
      "outputs": [
        {
          "output_type": "execute_result",
          "data": {
            "text/plain": [
              "<matplotlib.axes._subplots.AxesSubplot at 0x7f79074ec1d0>"
            ]
          },
          "metadata": {},
          "execution_count": 192
        },
        {
          "output_type": "display_data",
          "data": {
            "image/png": "[encoded data removed]",
            "text/plain": [
              "<Figure size 144x72 with 1 Axes>"
            ]
          },
          "metadata": {}
        }
      ]
    },
    {
      "cell_type": "code",
      "source": [
        "data={\n",
        "    'MMAX':[30.6,31.1,32.6,33.3,33.6,32.3,30.1,29.6,30.4,33.2,33.3,31.7, 29.4, 30.2, 32, 32.8, 32.4, 29.5, 27.3, 27.2, 28.2, 31, 31.8,30.5],\n",
        "    'MMIN':[17.1,11,21,23.9,26.2,20,25,24.6,24.3,23.6,21.3,18.8,18.8,19.6,21.7,24,26.2,25.9,24.9,24.5,24.4,24,22.4,20.1],\n",
        "    'TMRF':[1,1,0,1,12,551,959,623,346,79,10,3,0,1,0,0,27,487,661,459,300,66,6,5],\n",
        "    'RH':[66,64,64,66,67,50,85,85,82,71,68,66,58,59,60,68,72,83,89,89,89,74,60,57],\n",
        "    'MWS':[6.5,6.5,7.6,7.6,9.4,11.5,12.2,11.5,4,6.1,5.8,6.1,6,7,7,8,10,12,14,12,7,6,6,6]\n",
        "}\n",
        "df = pd.DataFrame(data)\n",
        "df\n",
        "df = sc.transform(df)\n",
        "c_pred = ensemble.predict(df)\n",
        "c_pred"
      ],
      "metadata": {
        "colab": {
          "base_uri": "https://localhost:8080/"
        },
        "id": "7UpF8o5eP9O_",
        "outputId": "c99e9683-e4fb-4616-a97a-35b7865ed63e"
      },
      "execution_count": null,
      "outputs": [
        {
          "output_type": "execute_result",
          "data": {
            "text/plain": [
              "array([2.29449371, 2.37779584, 2.45019254, 5.00155205, 6.44937433,\n",
              "       2.81908753, 3.47277813, 3.47277813, 3.61618898, 4.40549808,\n",
              "       6.41814653, 2.51303372, 1.8202053 , 2.22116021, 3.43202271,\n",
              "       4.27480045, 5.49031739, 3.47277813, 5.44952232, 5.44952232,\n",
              "       5.24952232, 4.15260173, 6.44900242, 3.4899739 ])"
            ]
          },
          "metadata": {},
          "execution_count": 193
        }
      ]
    },
    {
      "cell_type": "code",
      "source": [
        "c_pred.sum()"
      ],
      "metadata": {
        "colab": {
          "base_uri": "https://localhost:8080/"
        },
        "id": "PqQghAwG-odf",
        "outputId": "570bd58a-bfab-4c38-ce48-1ab4b997d224"
      },
      "execution_count": null,
      "outputs": [
        {
          "output_type": "execute_result",
          "data": {
            "text/plain": [
              "96.24234877655505"
            ]
          },
          "metadata": {},
          "execution_count": 194
        }
      ]
    },
    {
      "cell_type": "markdown",
      "source": [
        "**Female 15-24YRS** "
      ],
      "metadata": {
        "id": "Akl8y-WkW2Jf"
      }
    },
    {
      "cell_type": "code",
      "source": [
        "X = dataset.iloc[:,[1,2,3,4,5]]\n",
        "d = dataset.iloc[:,[11]]\n",
        "\n",
        "X_train, X_test, d_train, d_test = train_test_split(X, d, \n",
        "                        test_size = 0.2, random_state = 0)\n",
        "\n",
        "sc = StandardScaler()\n",
        "X_train = sc.fit_transform(X_train)\n",
        "X_test = sc.transform(X_test)\n",
        "\n",
        "#Adaboost + Decision Tree\n",
        "modelAD = AdaBoostRegressor(\n",
        "    DecisionTreeRegressor(max_depth=4)\n",
        ")\n",
        "modelAD.fit(X_train, d_train)\n",
        "\n",
        "#Adaboost + Support Vector Regressor\n",
        "modelSVR = AdaBoostRegressor(\n",
        "    SVR()\n",
        ")\n",
        "modelSVR.fit(X_train, d_train)\n",
        "\n",
        "#Ensemble Voting Regressor Model\n",
        "ensemble = VotingRegressor([('dt', modelAD), ('svr', modelSVR)])\n",
        "ensemble.fit(X_train, d_train)\n",
        "d_pred = ensemble.predict(X_test)\n",
        "\n",
        "print(\"\\n Evalutions Metrics\")\n",
        "mae=mean_absolute_error(d_test,d_pred)\n",
        "print(\"MAE\",mean_absolute_error(d_test,d_pred))\n",
        "print(\"RMSE\",np.sqrt(mean_squared_error(d_test,d_pred)))\n",
        "r2 = r2_score(d_test,d_pred)\n",
        "print(\"R-squared\",r2)\n",
        "\n",
        "print(\"\\n Hyperparameter Optimization\")\n",
        "scores = cross_val_score(ensemble, X_train, d_train, scoring='neg_mean_absolute_error', cv=30)\n",
        "mae = absolute(scores)\n",
        "print(\"MAE: \", np.mean(mae))\n",
        "scores = cross_val_score(ensemble, X_train, d_train, scoring='neg_root_mean_squared_error', cv=10)\n",
        "rmse = absolute(scores)\n",
        "print(\"RMSE: \", np.mean(rmse))\n",
        "scores = cross_val_score(ensemble, X_train, d_train, scoring='r2', cv=4)\n",
        "print(\"R-squared: \",scores.mean())"
      ],
      "metadata": {
        "colab": {
          "base_uri": "https://localhost:8080/"
        },
        "id": "e7vRg4XpW_jl",
        "outputId": "a559d13b-f05f-40a7-ff3c-804bf8b68ac7"
      },
      "execution_count": null,
      "outputs": [
        {
          "output_type": "stream",
          "name": "stdout",
          "text": [
            "\n",
            " Evalutions Metrics\n",
            "MAE 2.8278944395298096\n",
            "RMSE 3.2900250946413525\n",
            "R-squared 0.24318844167821208\n",
            "\n",
            " Hyperparameter Optimization\n",
            "MAE:  3.169023225805776\n",
            "RMSE:  3.7900488806485355\n",
            "R-squared:  0.030785098991603754\n"
          ]
        }
      ]
    },
    {
      "cell_type": "code",
      "source": [
        "plt.figure(figsize=(2,1))\n",
        "x = d_test.values.flatten()\n",
        "sns.scatterplot(x,d_pred,color=\"deeppink\")\n",
        "sns.lineplot(x,x)\n",
        "plt.title(\"15-24YRS-FEMALE\")"
      ],
      "metadata": {
        "colab": {
          "base_uri": "https://localhost:8080/",
          "height": 136
        },
        "id": "EcIbu5LVC7nB",
        "outputId": "ea340bad-2b57-42bf-c6d0-e1d105615f55"
      },
      "execution_count": null,
      "outputs": [
        {
          "output_type": "execute_result",
          "data": {
            "text/plain": [
              "Text(0.5, 1.0, '15-24YRS-FEMALE')"
            ]
          },
          "metadata": {},
          "execution_count": 196
        },
        {
          "output_type": "display_data",
          "data": {
            "image/png": "[encoded data removed]",
            "text/plain": [
              "<Figure size 144x72 with 1 Axes>"
            ]
          },
          "metadata": {}
        }
      ]
    },
    {
      "cell_type": "code",
      "source": [
        "plt.figure(figsize=(2,1))\n",
        "sns.residplot(x=d_test, y=d_pred, color=\"deeppink\")"
      ],
      "metadata": {
        "colab": {
          "base_uri": "https://localhost:8080/",
          "height": 134
        },
        "id": "AkiRjV2xBM1_",
        "outputId": "fc3871b7-32b9-4094-c59d-b88396d29ef4"
      },
      "execution_count": null,
      "outputs": [
        {
          "output_type": "execute_result",
          "data": {
            "text/plain": [
              "<matplotlib.axes._subplots.AxesSubplot at 0x7f79070b8390>"
            ]
          },
          "metadata": {},
          "execution_count": 197
        },
        {
          "output_type": "display_data",
          "data": {
            "image/png": "[encoded data removed]",
            "text/plain": [
              "<Figure size 144x72 with 1 Axes>"
            ]
          },
          "metadata": {}
        }
      ]
    },
    {
      "cell_type": "code",
      "source": [
        "data={\n",
        "    'MMAX':[30.6,31.1,32.6,33.3,33.6,32.3,30.1,29.6,30.4,33.2,33.3,31.7, 29.4, 30.2, 32, 32.8, 32.4, 29.5, 27.3, 27.2, 28.2, 31, 31.8,30.5],\n",
        "    'MMIN':[17.1,11,21,23.9,26.2,20,25,24.6,24.3,23.6,21.3,18.8,18.8,19.6,21.7,24,26.2,25.9,24.9,24.5,24.4,24,22.4,20.1],\n",
        "    'TMRF':[1,1,0,1,12,551,959,623,346,79,10,3,0,1,0,0,27,487,661,459,300,66,6,5],\n",
        "    'RH':[66,64,64,66,67,50,85,85,82,71,68,66,58,59,60,68,72,83,89,89,89,74,60,57],\n",
        "    'MWS':[6.5,6.5,7.6,7.6,9.4,11.5,12.2,11.5,4,6.1,5.8,6.1,6,7,7,8,10,12,14,12,7,6,6,6]\n",
        "}\n",
        "df = pd.DataFrame(data)\n",
        "df\n",
        "df = sc.transform(df)\n",
        "d_pred = ensemble.predict(df)\n",
        "d_pred"
      ],
      "metadata": {
        "colab": {
          "base_uri": "https://localhost:8080/"
        },
        "id": "bNXtqq0TQfGV",
        "outputId": "ffc9d151-1c1e-4157-cf77-3955d2468006"
      },
      "execution_count": null,
      "outputs": [
        {
          "output_type": "execute_result",
          "data": {
            "text/plain": [
              "array([5.00383798, 5.46821824, 3.97028395, 6.67261742, 7.3254946 ,\n",
              "       5.26226116, 3.98953389, 4.61453389, 4.88953389, 8.33906177,\n",
              "       7.17333711, 6.92588016, 2.9887546 , 4.77113119, 5.70570136,\n",
              "       6.04537839, 6.78621874, 5.26226116, 4.87842278, 4.15620055,\n",
              "       4.88953389, 5.79483968, 7.51217495, 6.54008031])"
            ]
          },
          "metadata": {},
          "execution_count": 198
        }
      ]
    },
    {
      "cell_type": "code",
      "source": [
        "d_pred.sum()"
      ],
      "metadata": {
        "colab": {
          "base_uri": "https://localhost:8080/"
        },
        "id": "fbZb3Hy4-7Bp",
        "outputId": "f2062b18-45f4-4d55-b085-f3e24627c39b"
      },
      "execution_count": null,
      "outputs": [
        {
          "output_type": "execute_result",
          "data": {
            "text/plain": [
              "134.96529163316777"
            ]
          },
          "metadata": {},
          "execution_count": 199
        }
      ]
    },
    {
      "cell_type": "markdown",
      "source": [
        "**Female 25-60YRS**"
      ],
      "metadata": {
        "id": "WCrJVov8W-Z_"
      }
    },
    {
      "cell_type": "code",
      "source": [
        "X = dataset.iloc[:,[1,2,3,4,5]]\n",
        "e = dataset.iloc[:,[12]]\n",
        "\n",
        "X_train, X_test, e_train, e_test = train_test_split(X, e, \n",
        "                        test_size = 0.2, random_state = 0)\n",
        "\n",
        "sc = StandardScaler()\n",
        "X_train = sc.fit_transform(X_train)\n",
        "X_test = sc.transform(X_test)\n",
        "\n",
        "#Adaboost + Decision Tree\n",
        "modelAD = AdaBoostRegressor(\n",
        "    DecisionTreeRegressor(max_depth=4)\n",
        ")\n",
        "modelAD.fit(X_train, e_train)\n",
        "\n",
        "#Adaboost + Support Vector Regressor\n",
        "modelSVR = AdaBoostRegressor(\n",
        "    SVR()\n",
        ")\n",
        "modelSVR.fit(X_train, e_train)\n",
        "\n",
        "#Ensemble Voting Regressor Model\n",
        "ensemble = VotingRegressor([('dt', modelAD), ('svr', modelSVR)])\n",
        "ensemble.fit(X_train, e_train)\n",
        "e_pred = ensemble.predict(X_test)\n",
        "\n",
        "print(\"\\n Evalutions Metrics\")\n",
        "mae=mean_absolute_error(e_test,e_pred)\n",
        "print(\"MAE\",mean_absolute_error(e_test,e_pred))\n",
        "print(\"RMSE\",np.sqrt(mean_squared_error(e_test,e_pred)))\n",
        "r2 = r2_score(e_test,e_pred)\n",
        "print(\"R-squared\",r2)\n",
        "\n",
        "\n",
        "print(\"\\n Hyperparameter Optimization\")\n",
        "scores = cross_val_score(ensemble, X_train, e_train, scoring='neg_mean_absolute_error', cv=5)\n",
        "mae = absolute(scores)\n",
        "print(\"MAE: \", np.mean(mae))\n",
        "scores = cross_val_score(ensemble, X_train, e_train, scoring='neg_root_mean_squared_error', cv=25)\n",
        "rmse = absolute(scores)\n",
        "print(\"RMSE: \", np.mean(rmse))\n",
        "scores = cross_val_score(ensemble, X_train, e_train, scoring='r2', cv=5)\n",
        "print(\"R-squared: \",scores.mean())"
      ],
      "metadata": {
        "colab": {
          "base_uri": "https://localhost:8080/"
        },
        "id": "vta-T-RqXr6y",
        "outputId": "e80fa069-5f2a-4a12-d8ce-335da5c18d65"
      },
      "execution_count": null,
      "outputs": [
        {
          "output_type": "stream",
          "name": "stdout",
          "text": [
            "\n",
            " Evalutions Metrics\n",
            "MAE 4.438586470379314\n",
            "RMSE 5.8172744766942746\n",
            "R-squared 0.17457944686563598\n",
            "\n",
            " Hyperparameter Optimization\n",
            "MAE:  5.5305671605963855\n",
            "RMSE:  6.580750293953447\n",
            "R-squared:  -0.14578529325646739\n"
          ]
        }
      ]
    },
    {
      "cell_type": "code",
      "source": [
        "plt.figure(figsize=(2,1))\n",
        "x = e_test.values.flatten()\n",
        "sns.scatterplot(x,e_pred,color=\"yellow\")\n",
        "sns.lineplot(x,x)\n",
        "plt.title(\"25-60YRS-FEMALE\")"
      ],
      "metadata": {
        "colab": {
          "base_uri": "https://localhost:8080/",
          "height": 136
        },
        "id": "L8CcPZFoDDNW",
        "outputId": "291f069d-5fc1-416f-c571-461662148867"
      },
      "execution_count": null,
      "outputs": [
        {
          "output_type": "execute_result",
          "data": {
            "text/plain": [
              "Text(0.5, 1.0, '25-60YRS-FEMALE')"
            ]
          },
          "metadata": {},
          "execution_count": 201
        },
        {
          "output_type": "display_data",
          "data": {
            "image/png": "[encoded data removed]",
            "text/plain": [
              "<Figure size 144x72 with 1 Axes>"
            ]
          },
          "metadata": {}
        }
      ]
    },
    {
      "cell_type": "code",
      "source": [
        "plt.figure(figsize=(2,1))\n",
        "sns.residplot(x=e_test, y=e_pred,color=\"yellow\")"
      ],
      "metadata": {
        "colab": {
          "base_uri": "https://localhost:8080/",
          "height": 137
        },
        "id": "hxgWgQtqBQ_z",
        "outputId": "5436cd2e-e965-437d-e6e9-ab113b79ec4b"
      },
      "execution_count": null,
      "outputs": [
        {
          "output_type": "execute_result",
          "data": {
            "text/plain": [
              "<matplotlib.axes._subplots.AxesSubplot at 0x7f7906f78350>"
            ]
          },
          "metadata": {},
          "execution_count": 202
        },
        {
          "output_type": "display_data",
          "data": {
            "image/png": "[encoded data removed]",
            "text/plain": [
              "<Figure size 144x72 with 1 Axes>"
            ]
          },
          "metadata": {}
        }
      ]
    },
    {
      "cell_type": "code",
      "source": [
        "data={\n",
        "    'MMAX':[30.6,31.1,32.6,33.3,33.6,32.3,30.1,29.6,30.4,33.2,33.3,31.7, 29.4, 30.2, 32, 32.8, 32.4, 29.5, 27.3, 27.2, 28.2, 31, 31.8,30.5],\n",
        "    'MMIN':[17.1,11,21,23.9,26.2,20,25,24.6,24.3,23.6,21.3,18.8,18.8,19.6,21.7,24,26.2,25.9,24.9,24.5,24.4,24,22.4,20.1],\n",
        "    'TMRF':[1,1,0,1,12,551,959,623,346,79,10,3,0,1,0,0,27,487,661,459,300,66,6,5],\n",
        "    'RH':[66,64,64,66,67,50,85,85,82,71,68,66,58,59,60,68,72,83,89,89,89,74,60,57],\n",
        "    'MWS':[6.5,6.5,7.6,7.6,9.4,11.5,12.2,11.5,4,6.1,5.8,6.1,6,7,7,8,10,12,14,12,7,6,6,6]\n",
        "}\n",
        "df = pd.DataFrame(data)\n",
        "df\n",
        "df = sc.transform(df)\n",
        "e_pred = ensemble.predict(df)\n",
        "e_pred"
      ],
      "metadata": {
        "colab": {
          "base_uri": "https://localhost:8080/"
        },
        "id": "GKn0Cwf9Q7oc",
        "outputId": "ce53d825-a678-4fc8-9562-7fd1e2adb991"
      },
      "execution_count": null,
      "outputs": [
        {
          "output_type": "execute_result",
          "data": {
            "text/plain": [
              "array([ 5.95095299,  6.74084964,  6.71930368,  7.7503888 , 15.59286963,\n",
              "        8.23250938,  7.95274748,  8.73846176,  9.15750938, 10.32134327,\n",
              "       10.51183928, 10.20043001,  5.95975238,  6.32833029,  6.30730147,\n",
              "        7.97115271, 14.06495583,  8.62417605, 10.12139827, 10.35750938,\n",
              "        9.29340682, 10.57404957, 10.61105704,  9.92760496])"
            ]
          },
          "metadata": {},
          "execution_count": 203
        }
      ]
    },
    {
      "cell_type": "code",
      "source": [
        "e_pred.sum()"
      ],
      "metadata": {
        "colab": {
          "base_uri": "https://localhost:8080/"
        },
        "id": "a5O0rEiV_EsL",
        "outputId": "e07da33b-d421-4e14-d31e-b523cc6f8f33"
      },
      "execution_count": null,
      "outputs": [
        {
          "output_type": "execute_result",
          "data": {
            "text/plain": [
              "218.00990008385102"
            ]
          },
          "metadata": {},
          "execution_count": 204
        }
      ]
    },
    {
      "cell_type": "markdown",
      "source": [
        "**Female > 60YRS**"
      ],
      "metadata": {
        "id": "WrTPP71eX7PJ"
      }
    },
    {
      "cell_type": "code",
      "source": [
        "X = dataset.iloc[:,[1,2,3,4,5]]\n",
        "f = dataset.iloc[:,[13]]\n",
        "\n",
        "X_train, X_test, f_train, f_test = train_test_split(X, f, \n",
        "                        test_size = 0.2, random_state = 0)\n",
        "\n",
        "sc = StandardScaler()\n",
        "X_train = sc.fit_transform(X_train)\n",
        "X_test = sc.transform(X_test)\n",
        "\n",
        "#Adaboost + Decision Tree\n",
        "modelAD = AdaBoostRegressor(\n",
        "    DecisionTreeRegressor(max_depth=4)\n",
        ")\n",
        "modelAD.fit(X_train, f_train)\n",
        "\n",
        "#Adaboost + Support Vector Regressor\n",
        "modelSVR = AdaBoostRegressor(\n",
        "    SVR()\n",
        ")\n",
        "modelSVR.fit(X_train, f_train)\n",
        "\n",
        "#Ensemble Voting Regressor Model\n",
        "ensemble = VotingRegressor([('dt', modelAD), ('svr', modelSVR)])\n",
        "ensemble.fit(X_train, f_train)\n",
        "f_pred = ensemble.predict(X_test)\n",
        "\n",
        "print(\"\\n Evalutions Metrics\")\n",
        "mae=mean_absolute_error(f_test,f_pred)\n",
        "print(\"MAE\",mean_absolute_error(f_test,f_pred))\n",
        "print(\"RMSE\",np.sqrt(mean_squared_error(f_test,f_pred)))\n",
        "r2 = r2_score(f_test,f_pred)\n",
        "print(\"R-squared\",r2)\n",
        "\n",
        "print(\"\\n Hyperparameter Optimization\")\n",
        "scores = cross_val_score(ensemble, X_train, f_train, scoring='neg_mean_absolute_error', cv=5)\n",
        "mae = absolute(scores)\n",
        "print(\"MAE: \", np.mean(mae))\n",
        "scores = cross_val_score(ensemble, X_train, f_train, scoring='neg_root_mean_squared_error', cv=20)\n",
        "rmse = absolute(scores)\n",
        "print(\"RMSE: \", np.mean(rmse))\n",
        "scores = cross_val_score(ensemble, X_train, f_train, scoring='r2', cv=5)\n",
        "print(\"R-squared: \",scores.mean())"
      ],
      "metadata": {
        "colab": {
          "base_uri": "https://localhost:8080/"
        },
        "id": "gZePw36CYADj",
        "outputId": "e2492234-a318-4726-e3ed-2184cf2556cf"
      },
      "execution_count": null,
      "outputs": [
        {
          "output_type": "stream",
          "name": "stdout",
          "text": [
            "\n",
            " Evalutions Metrics\n",
            "MAE 0.774751414586886\n",
            "RMSE 1.0186055380078987\n",
            "R-squared -0.2944994836083268\n",
            "\n",
            " Hyperparameter Optimization\n",
            "MAE:  0.755408490867999\n",
            "RMSE:  0.8831335260267602\n",
            "R-squared:  -0.4586236021460103\n"
          ]
        }
      ]
    },
    {
      "cell_type": "code",
      "source": [
        "plt.figure(figsize=(2,1))\n",
        "x = f_test.values.flatten()\n",
        "sns.scatterplot(x,f_pred,color=\"purple\")\n",
        "sns.lineplot(x,x)\n",
        "plt.title(\">60YRS-FEMALE\")"
      ],
      "metadata": {
        "colab": {
          "base_uri": "https://localhost:8080/",
          "height": 136
        },
        "id": "KbQZ_-3JDQG9",
        "outputId": "5337e653-b4f5-4a9d-c85f-6d4658235c8e"
      },
      "execution_count": null,
      "outputs": [
        {
          "output_type": "execute_result",
          "data": {
            "text/plain": [
              "Text(0.5, 1.0, '>60YRS-FEMALE')"
            ]
          },
          "metadata": {},
          "execution_count": 206
        },
        {
          "output_type": "display_data",
          "data": {
            "image/png": "[encoded data removed]",
            "text/plain": [
              "<Figure size 144x72 with 1 Axes>"
            ]
          },
          "metadata": {}
        }
      ]
    },
    {
      "cell_type": "code",
      "source": [
        "plt.figure(figsize=(2,1))\n",
        "sns.residplot(x=f_test, y=f_pred,color=\"purple\")"
      ],
      "metadata": {
        "colab": {
          "base_uri": "https://localhost:8080/",
          "height": 134
        },
        "id": "2brF9AOaBYl6",
        "outputId": "57dd5ed6-dada-4380-fb23-1718a6022dc5"
      },
      "execution_count": null,
      "outputs": [
        {
          "output_type": "execute_result",
          "data": {
            "text/plain": [
              "<matplotlib.axes._subplots.AxesSubplot at 0x7f7906ebc6d0>"
            ]
          },
          "metadata": {},
          "execution_count": 207
        },
        {
          "output_type": "display_data",
          "data": {
            "image/png": "[encoded data removed]",
            "text/plain": [
              "<Figure size 144x72 with 1 Axes>"
            ]
          },
          "metadata": {}
        }
      ]
    },
    {
      "cell_type": "code",
      "source": [
        ""
      ],
      "metadata": {
        "id": "mEk2BZDos3sH"
      },
      "execution_count": null,
      "outputs": []
    },
    {
      "cell_type": "code",
      "source": [
        "data={\n",
        "    'MMAX':[30.6,31.1,32.6,33.3,33.6,32.3,30.1,29.6,30.4,33.2,33.3,31.7, 29.4, 30.2, 32, 32.8, 32.4, 29.5, 27.3, 27.2, 28.2, 31, 31.8,30.5],\n",
        "    'MMIN':[17.1,11,21,23.9,26.2,20,25,24.6,24.3,23.6,21.3,18.8,18.8,19.6,21.7,24,26.2,25.9,24.9,24.5,24.4,24,22.4,20.1],\n",
        "    'TMRF':[1,1,0,1,12,551,959,623,346,79,10,3,0,1,0,0,27,487,661,459,300,66,6,5],\n",
        "    'RH':[66,64,64,66,67,50,85,85,82,71,68,66,58,59,60,68,72,83,89,89,89,74,60,57],\n",
        "    'MWS':[6.5,6.5,7.6,7.6,9.4,11.5,12.2,11.5,4,6.1,5.8,6.1,6,7,7,8,10,12,14,12,7,6,6,6]\n",
        "}\n",
        "df = pd.DataFrame(data)\n",
        "df\n",
        "df = sc.transform(df)\n",
        "f_pred = ensemble.predict(df)\n",
        "f_pred"
      ],
      "metadata": {
        "colab": {
          "base_uri": "https://localhost:8080/"
        },
        "id": "gYa98BMkRTUA",
        "outputId": "a6fac6d1-614b-4e1c-f5dc-66ed66265e20"
      },
      "execution_count": null,
      "outputs": [
        {
          "output_type": "execute_result",
          "data": {
            "text/plain": [
              "array([0.67074895, 0.69472274, 0.43381822, 0.97481709, 1.14287117,\n",
              "       0.70068735, 0.78402068, 0.78402068, 0.90902068, 0.94812937,\n",
              "       1.05142365, 0.71965664, 0.45619568, 0.53206385, 0.42341559,\n",
              "       0.57802458, 1.4629057 , 0.78402068, 0.77998842, 0.78402068,\n",
              "       0.70902068, 0.82363887, 0.88784656, 0.6205696 ])"
            ]
          },
          "metadata": {},
          "execution_count": 208
        }
      ]
    },
    {
      "cell_type": "code",
      "source": [
        "f_pred.sum()"
      ],
      "metadata": {
        "colab": {
          "base_uri": "https://localhost:8080/"
        },
        "id": "UbersgHv_K0P",
        "outputId": "6d929e90-954a-4661-c944-ee0e6f4da2c5"
      },
      "execution_count": null,
      "outputs": [
        {
          "output_type": "execute_result",
          "data": {
            "text/plain": [
              "18.65564810058267"
            ]
          },
          "metadata": {},
          "execution_count": 209
        }
      ]
    },
    {
      "cell_type": "code",
      "source": [
        "y_pred[0]+z_pred[0]+a_pred[0]+b_pred[0]+c_pred[0]+d_pred[0]+e_pred[0]+f_pred[0]"
      ],
      "metadata": {
        "colab": {
          "base_uri": "https://localhost:8080/"
        },
        "id": "k2lyrkLHwm2G",
        "outputId": "d190a2fc-9ac9-4a90-ceee-8fe52d537242"
      },
      "execution_count": null,
      "outputs": [
        {
          "output_type": "execute_result",
          "data": {
            "text/plain": [
              "44.92951158953388"
            ]
          },
          "metadata": {},
          "execution_count": 210
        }
      ]
    },
    {
      "cell_type": "code",
      "source": [
        "y_pred[1]+z_pred[1]+a_pred[1]+b_pred[1]+c_pred[1]+d_pred[1]+e_pred[1]+f_pred[1]"
      ],
      "metadata": {
        "colab": {
          "base_uri": "https://localhost:8080/"
        },
        "id": "vJse33U2xr0u",
        "outputId": "877ec23a-699b-4606-d1a7-6e63d5ae5a5e"
      },
      "execution_count": null,
      "outputs": [
        {
          "output_type": "execute_result",
          "data": {
            "text/plain": [
              "49.09547035245561"
            ]
          },
          "metadata": {},
          "execution_count": 211
        }
      ]
    },
    {
      "cell_type": "code",
      "source": [
        "y_pred[2]+z_pred[2]+a_pred[2]+b_pred[2]+c_pred[2]+d_pred[2]+e_pred[2]+f_pred[2]"
      ],
      "metadata": {
        "colab": {
          "base_uri": "https://localhost:8080/"
        },
        "id": "yjto1frKx7wX",
        "outputId": "d18848ff-8311-4bf1-99c5-1ef75198c13c"
      },
      "execution_count": null,
      "outputs": [
        {
          "output_type": "execute_result",
          "data": {
            "text/plain": [
              "47.055298592276216"
            ]
          },
          "metadata": {},
          "execution_count": 212
        }
      ]
    },
    {
      "cell_type": "code",
      "source": [
        "y_pred[3]+z_pred[3]+a_pred[3]+b_pred[3]+c_pred[3]+d_pred[3]+e_pred[3]+f_pred[3]"
      ],
      "metadata": {
        "colab": {
          "base_uri": "https://localhost:8080/"
        },
        "id": "MT6o9frLyFiI",
        "outputId": "2d3412bb-3d6d-474b-e2fc-15d75b1c7842"
      },
      "execution_count": null,
      "outputs": [
        {
          "output_type": "execute_result",
          "data": {
            "text/plain": [
              "59.290499356938454"
            ]
          },
          "metadata": {},
          "execution_count": 213
        }
      ]
    },
    {
      "cell_type": "code",
      "source": [
        "y_pred[4]+z_pred[4]+a_pred[4]+b_pred[4]+c_pred[4]+d_pred[4]+e_pred[4]+f_pred[4]"
      ],
      "metadata": {
        "colab": {
          "base_uri": "https://localhost:8080/"
        },
        "id": "dsljaeZdyQj_",
        "outputId": "b56eb920-3c8e-4957-9c7a-01483f245b6f"
      },
      "execution_count": null,
      "outputs": [
        {
          "output_type": "execute_result",
          "data": {
            "text/plain": [
              "90.02427669948266"
            ]
          },
          "metadata": {},
          "execution_count": 214
        }
      ]
    },
    {
      "cell_type": "code",
      "source": [
        "y_pred[5]+z_pred[5]+a_pred[5]+b_pred[5]+c_pred[5]+d_pred[5]+e_pred[5]+f_pred[5]"
      ],
      "metadata": {
        "colab": {
          "base_uri": "https://localhost:8080/"
        },
        "id": "tqwNtM4PrJbs",
        "outputId": "97f1a62f-3efe-423f-8da6-022b4fe798a9"
      },
      "execution_count": null,
      "outputs": [
        {
          "output_type": "execute_result",
          "data": {
            "text/plain": [
              "53.20481810327937"
            ]
          },
          "metadata": {},
          "execution_count": 215
        }
      ]
    },
    {
      "cell_type": "code",
      "source": [
        "y_pred[6]+z_pred[6]+a_pred[6]+b_pred[6]+c_pred[6]+d_pred[6]+e_pred[6]+f_pred[6]"
      ],
      "metadata": {
        "colab": {
          "base_uri": "https://localhost:8080/"
        },
        "id": "06JaG8C3yXAw",
        "outputId": "1a93e902-6644-435c-847c-e84c6d3aa50a"
      },
      "execution_count": null,
      "outputs": [
        {
          "output_type": "execute_result",
          "data": {
            "text/plain": [
              "57.446802350635195"
            ]
          },
          "metadata": {},
          "execution_count": 216
        }
      ]
    },
    {
      "cell_type": "code",
      "source": [
        "y_pred[7]+z_pred[7]+a_pred[7]+b_pred[7]+c_pred[7]+d_pred[7]+e_pred[7]+f_pred[7]"
      ],
      "metadata": {
        "colab": {
          "base_uri": "https://localhost:8080/"
        },
        "id": "jN2gX1FsyhL6",
        "outputId": "2715939d-fe4b-4841-f78c-1a819bd7746d"
      },
      "execution_count": null,
      "outputs": [
        {
          "output_type": "execute_result",
          "data": {
            "text/plain": [
              "60.61628856617404"
            ]
          },
          "metadata": {},
          "execution_count": 217
        }
      ]
    },
    {
      "cell_type": "code",
      "source": [
        "y_pred[8]+z_pred[8]+a_pred[8]+b_pred[8]+c_pred[8]+d_pred[8]+e_pred[8]+f_pred[8]"
      ],
      "metadata": {
        "colab": {
          "base_uri": "https://localhost:8080/"
        },
        "id": "6VSApdgZyrjL",
        "outputId": "fa321b9e-2997-4e76-d559-e93f1c7037a7"
      },
      "execution_count": null,
      "outputs": [
        {
          "output_type": "execute_result",
          "data": {
            "text/plain": [
              "61.673438311573754"
            ]
          },
          "metadata": {},
          "execution_count": 218
        }
      ]
    },
    {
      "cell_type": "code",
      "source": [
        "y_pred[9]+z_pred[9]+a_pred[9]+b_pred[9]+c_pred[9]+d_pred[9]+e_pred[9]+f_pred[9]"
      ],
      "metadata": {
        "colab": {
          "base_uri": "https://localhost:8080/"
        },
        "id": "K9RsSYqCyznV",
        "outputId": "6b6b7e88-827f-45b2-f881-7f9dbdc70046"
      },
      "execution_count": null,
      "outputs": [
        {
          "output_type": "execute_result",
          "data": {
            "text/plain": [
              "66.26519899771375"
            ]
          },
          "metadata": {},
          "execution_count": 219
        }
      ]
    },
    {
      "cell_type": "code",
      "source": [
        "y_pred[10]+z_pred[10]+a_pred[10]+b_pred[10]+c_pred[10]+d_pred[10]+e_pred[10]+f_pred[10]"
      ],
      "metadata": {
        "colab": {
          "base_uri": "https://localhost:8080/"
        },
        "id": "HicLh6mAy6w_",
        "outputId": "03de7296-3880-430f-8d60-805b49ff4033"
      },
      "execution_count": null,
      "outputs": [
        {
          "output_type": "execute_result",
          "data": {
            "text/plain": [
              "66.63542908673234"
            ]
          },
          "metadata": {},
          "execution_count": 220
        }
      ]
    },
    {
      "cell_type": "code",
      "source": [
        "y_pred[11]+z_pred[11]+a_pred[11]+b_pred[11]+c_pred[11]+d_pred[11]+e_pred[11]+f_pred[11]"
      ],
      "metadata": {
        "colab": {
          "base_uri": "https://localhost:8080/"
        },
        "id": "HqP1gvOizLXk",
        "outputId": "d351a4fa-55af-407a-aa04-636ac57c0544"
      },
      "execution_count": null,
      "outputs": [
        {
          "output_type": "execute_result",
          "data": {
            "text/plain": [
              "57.83208237353137"
            ]
          },
          "metadata": {},
          "execution_count": 221
        }
      ]
    },
    {
      "cell_type": "code",
      "source": [
        "y_pred[12]+z_pred[12]+a_pred[12]+b_pred[12]+c_pred[12]+d_pred[12]+e_pred[12]+f_pred[12]"
      ],
      "metadata": {
        "colab": {
          "base_uri": "https://localhost:8080/"
        },
        "id": "RO4NQz3gzCMu",
        "outputId": "d7e343a0-1931-489a-e19a-13dd595f4f47"
      },
      "execution_count": null,
      "outputs": [
        {
          "output_type": "execute_result",
          "data": {
            "text/plain": [
              "34.60699762174754"
            ]
          },
          "metadata": {},
          "execution_count": 222
        }
      ]
    },
    {
      "cell_type": "code",
      "source": [
        "y_pred[13]+z_pred[13]+a_pred[13]+b_pred[13]+c_pred[13]+d_pred[13]+e_pred[13]+f_pred[13]"
      ],
      "metadata": {
        "colab": {
          "base_uri": "https://localhost:8080/"
        },
        "outputId": "67f41f5d-795b-46ca-e5a2-6edb3fa0a997",
        "id": "78e0eMIJzUYi"
      },
      "execution_count": null,
      "outputs": [
        {
          "output_type": "execute_result",
          "data": {
            "text/plain": [
              "44.00592796492482"
            ]
          },
          "metadata": {},
          "execution_count": 223
        }
      ]
    },
    {
      "cell_type": "code",
      "source": [
        "y_pred[14]+z_pred[14]+a_pred[14]+b_pred[14]+c_pred[14]+d_pred[14]+e_pred[14]+f_pred[14]"
      ],
      "metadata": {
        "colab": {
          "base_uri": "https://localhost:8080/"
        },
        "outputId": "7d91ae86-1637-4f70-e04d-76f8f8f73b2b",
        "id": "jUfpump4zapa"
      },
      "execution_count": null,
      "outputs": [
        {
          "output_type": "execute_result",
          "data": {
            "text/plain": [
              "47.989088694552095"
            ]
          },
          "metadata": {},
          "execution_count": 224
        }
      ]
    },
    {
      "cell_type": "code",
      "source": [
        "y_pred[15]+z_pred[15]+a_pred[15]+b_pred[15]+c_pred[15]+d_pred[15]+e_pred[15]+f_pred[15]"
      ],
      "metadata": {
        "colab": {
          "base_uri": "https://localhost:8080/"
        },
        "outputId": "2dcbc6a1-79b3-43d2-f99c-e6fb308d7a99",
        "id": "n_pMegPEz0aI"
      },
      "execution_count": null,
      "outputs": [
        {
          "output_type": "execute_result",
          "data": {
            "text/plain": [
              "53.59035687016445"
            ]
          },
          "metadata": {},
          "execution_count": 225
        }
      ]
    },
    {
      "cell_type": "code",
      "source": [
        "y_pred[16]+z_pred[16]+a_pred[16]+b_pred[16]+c_pred[16]+d_pred[16]+e_pred[16]+f_pred[16]"
      ],
      "metadata": {
        "colab": {
          "base_uri": "https://localhost:8080/"
        },
        "outputId": "f0a4380c-e9f9-4f7a-e93a-3ebdcc207f6a",
        "id": "K6fgbGt_z7Fs"
      },
      "execution_count": null,
      "outputs": [
        {
          "output_type": "execute_result",
          "data": {
            "text/plain": [
              "72.64954788653698"
            ]
          },
          "metadata": {},
          "execution_count": 226
        }
      ]
    },
    {
      "cell_type": "code",
      "source": [
        "y_pred[17]+z_pred[17]+a_pred[17]+b_pred[17]+c_pred[17]+d_pred[17]+e_pred[17]+f_pred[17]"
      ],
      "metadata": {
        "colab": {
          "base_uri": "https://localhost:8080/"
        },
        "outputId": "c4e05c6b-a23d-442c-b44a-286710744f10",
        "id": "OyyoniMU0D9g"
      },
      "execution_count": null,
      "outputs": [
        {
          "output_type": "execute_result",
          "data": {
            "text/plain": [
              "60.68827199210484"
            ]
          },
          "metadata": {},
          "execution_count": 227
        }
      ]
    },
    {
      "cell_type": "code",
      "source": [
        "y_pred[18]+z_pred[18]+a_pred[18]+b_pred[18]+c_pred[18]+d_pred[18]+e_pred[18]+f_pred[18]"
      ],
      "metadata": {
        "colab": {
          "base_uri": "https://localhost:8080/"
        },
        "outputId": "d5bac7e2-0229-4374-d3d1-36fa5f10a0b4",
        "id": "dekkgCFy0ONX"
      },
      "execution_count": null,
      "outputs": [
        {
          "output_type": "execute_result",
          "data": {
            "text/plain": [
              "64.31417517327809"
            ]
          },
          "metadata": {},
          "execution_count": 228
        }
      ]
    },
    {
      "cell_type": "code",
      "source": [
        "y_pred[19]+z_pred[19]+a_pred[19]+b_pred[19]+c_pred[19]+d_pred[19]+e_pred[19]+f_pred[19]"
      ],
      "metadata": {
        "colab": {
          "base_uri": "https://localhost:8080/"
        },
        "outputId": "3f25059b-6f00-4e2c-cce5-b33cd1268f0d",
        "id": "VkUO8bzB0Uy5"
      },
      "execution_count": null,
      "outputs": [
        {
          "output_type": "execute_result",
          "data": {
            "text/plain": [
              "66.29361535675052"
            ]
          },
          "metadata": {},
          "execution_count": 229
        }
      ]
    },
    {
      "cell_type": "code",
      "source": [
        "y_pred[20]+z_pred[20]+a_pred[20]+b_pred[20]+c_pred[20]+d_pred[20]+e_pred[20]+f_pred[20]"
      ],
      "metadata": {
        "colab": {
          "base_uri": "https://localhost:8080/"
        },
        "outputId": "c1fa769f-e8c3-4c0d-9689-39214315cb3c",
        "id": "RFSeMqnn0gl0"
      },
      "execution_count": null,
      "outputs": [
        {
          "output_type": "execute_result",
          "data": {
            "text/plain": [
              "66.83314527691823"
            ]
          },
          "metadata": {},
          "execution_count": 230
        }
      ]
    },
    {
      "cell_type": "code",
      "source": [
        "y_pred[21]+z_pred[21]+a_pred[21]+b_pred[21]+c_pred[21]+d_pred[21]+e_pred[21]+f_pred[21]"
      ],
      "metadata": {
        "colab": {
          "base_uri": "https://localhost:8080/"
        },
        "outputId": "c9408bf8-617e-43db-b69b-88db5e9fe92f",
        "id": "DRHI75BN0qah"
      },
      "execution_count": null,
      "outputs": [
        {
          "output_type": "execute_result",
          "data": {
            "text/plain": [
              "63.931555669153596"
            ]
          },
          "metadata": {},
          "execution_count": 231
        }
      ]
    },
    {
      "cell_type": "code",
      "source": [
        "y_pred[22]+z_pred[22]+a_pred[22]+b_pred[22]+c_pred[22]+d_pred[22]+e_pred[22]+f_pred[22]"
      ],
      "metadata": {
        "colab": {
          "base_uri": "https://localhost:8080/"
        },
        "outputId": "f95247fb-3aa7-47da-b08b-a510e38549cb",
        "id": "OcMdY1_t0y55"
      },
      "execution_count": null,
      "outputs": [
        {
          "output_type": "execute_result",
          "data": {
            "text/plain": [
              "66.39782097462579"
            ]
          },
          "metadata": {},
          "execution_count": 232
        }
      ]
    },
    {
      "cell_type": "code",
      "source": [
        "y_pred[23]+z_pred[23]+a_pred[23]+b_pred[23]+c_pred[23]+d_pred[23]+e_pred[23]+f_pred[23]"
      ],
      "metadata": {
        "colab": {
          "base_uri": "https://localhost:8080/"
        },
        "outputId": "764e2fa7-84eb-4f7d-ce5b-15038c1e7fb9",
        "id": "NnFOtkJj0_bN"
      },
      "execution_count": null,
      "outputs": [
        {
          "output_type": "execute_result",
          "data": {
            "text/plain": [
              "54.566510365486664"
            ]
          },
          "metadata": {},
          "execution_count": 233
        }
      ]
    },
    {
      "cell_type": "code",
      "source": [
        "mon = ['Jan\\'2022','Feb\\'2022','Mar\\'2022','Apr\\'2022','May\\'2022','Jun\\'2022','Jul\\'2022','Aug\\'2022','Sep\\'2022','Oct\\'2022','Nov\\'2022','Dec\\'2022','Jan\\'2023','Feb\\'2023','Mar\\'2023','Apr\\'2023','May\\'2023','Jun\\'2023','Jul\\'2023','Aug\\'2023','Sep\\'2023','Oct\\'2023','Nov\\'2023','Dec\\'2023']\n",
        "sns.set_style(\"whitegrid\")\n",
        "plt.xticks(rotation=90)\n",
        "plt.ylabel(\"Dengue Incidence\")\n",
        "fig = sns.lineplot(mon, y_pred, label = \"<14YRS(M)\", linestyle='dashed')\n",
        "fig = sns.lineplot(mon, z_pred, label = \"14-25YRS(M)\", linewidth=2)\n",
        "fig = sns.lineplot(mon, a_pred, label = \"26-60YRS(M)\")\n",
        "fig = sns.lineplot(mon, b_pred, label = \">60YRS(M)\")\n",
        "fig = sns.lineplot(mon, c_pred, label = \"<14YRS(F)\", linestyle='dashed')\n",
        "fig = sns.lineplot(mon, d_pred, label = \"14-25YRS(F)\")\n",
        "fig = sns.lineplot(mon, e_pred, label = \"26-60YRS(F)\")\n",
        "fig = sns.lineplot(mon, f_pred, label = \">60YRS(F)\")\n",
        "plt.grid(None)\n",
        "plt.legend(bbox_to_anchor=(-0.2, 1.05))\n",
        "plt.title(\"Dengue Incidence of vunerable groups for Mumbai City (2022-2023) \\n\", pad=10)\n",
        "plt.show()"
      ],
      "metadata": {
        "colab": {
          "base_uri": "https://localhost:8080/",
          "height": 338
        },
        "id": "6qmtdymJZrXv",
        "outputId": "e7c58217-5c7c-4691-c27e-32b894e5c102"
      },
      "execution_count": null,
      "outputs": [
        {
          "output_type": "display_data",
          "data": {
            "image/png": "[encoded data removed]",
            "text/plain": [
              "<Figure size 432x288 with 1 Axes>"
            ]
          },
          "metadata": {}
        }
      ]
    },
    {
      "cell_type": "code",
      "source": [
        "fig = sns.kdeplot(y_pred, shade=True, color=\"red\", alpha=.8)\n",
        "fig = sns.kdeplot(z_pred, shade=True, color=\"green\", alpha=.8)\n",
        "fig = sns.kdeplot(a_pred, shade=True, color=\"yellow\", alpha=.8)\n",
        "fig = sns.kdeplot(b_pred, shade=True, color=\"deeppink\", alpha=.8)\n",
        "plt.show()"
      ],
      "metadata": {
        "colab": {
          "base_uri": "https://localhost:8080/",
          "height": 264
        },
        "id": "-2u9Ct9rOL4B",
        "outputId": "a132db02-bd75-42ba-a96c-2835e8d7cdb9"
      },
      "execution_count": null,
      "outputs": [
        {
          "output_type": "display_data",
          "data": {
            "image/png": "[encoded data removed]",
            "text/plain": [
              "<Figure size 432x288 with 1 Axes>"
            ]
          },
          "metadata": {}
        }
      ]
    },
    {
      "cell_type": "code",
      "source": [
        "fig = sns.kdeplot(c_pred, shade=True, color=\"orange\", alpha=.8)\n",
        "fig = sns.kdeplot(d_pred, shade=True, color=\"brown\", alpha=.8)\n",
        "fig = sns.kdeplot(e_pred, shade=True, color=\"purple\", alpha=.8)\n",
        "# fig = sns.kdeplot(f_pred, shade=True, color=\"maroon\", alpha=.8)"
      ],
      "metadata": {
        "colab": {
          "base_uri": "https://localhost:8080/",
          "height": 264
        },
        "id": "9UU6y25pQsFj",
        "outputId": "49f93af4-5107-465e-be39-475c48894cba"
      },
      "execution_count": null,
      "outputs": [
        {
          "output_type": "display_data",
          "data": {
            "image/png": "[encoded data removed]",
            "text/plain": [
              "<Figure size 432x288 with 1 Axes>"
            ]
          },
          "metadata": {}
        }
      ]
    },
    {
      "cell_type": "code",
      "source": [
        "plt.xticks(rotation=90)\n",
        "plt.grid(None)\n",
        "plt.stackplot(mon,y_pred, z_pred, a_pred, b_pred, c_pred, d_pred, e_pred, f_pred, labels=['A','B','C'])\n",
        "plt.legend(bbox_to_anchor=(-0.2, 1.05))\n"
      ],
      "metadata": {
        "colab": {
          "base_uri": "https://localhost:8080/",
          "height": 328
        },
        "id": "RzD_36NYRYlC",
        "outputId": "c7f04bd7-7f60-40a2-be66-f79667706369"
      },
      "execution_count": null,
      "outputs": [
        {
          "output_type": "execute_result",
          "data": {
            "text/plain": [
              "<matplotlib.legend.Legend at 0x7f7906c22850>"
            ]
          },
          "metadata": {},
          "execution_count": 237
        },
        {
          "output_type": "display_data",
          "data": {
            "image/png": "[encoded data removed]",
            "text/plain": [
              "<Figure size 432x288 with 1 Axes>"
            ]
          },
          "metadata": {}
        }
      ]
    }
  ],
  "metadata": {
    "colab": {
      "collapsed_sections": [],
      "name": "Mumbai",
      "provenance": []
    },
    "kernelspec": {
      "display_name": "Python 3",
      "name": "python3"
    },
    "language_info": {
      "name": "python"
    }
  },
  "nbformat": 4,
  "nbformat_minor": 0
}